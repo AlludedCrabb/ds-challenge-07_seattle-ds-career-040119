{
 "cells": [
  {
   "cell_type": "code",
   "execution_count": 109,
   "metadata": {},
   "outputs": [
    {
     "name": "stdout",
     "output_type": "stream",
     "text": [
      " 4586335 74563548 642819893 enwiki-20190420-pages-articles-multistream1.xml-p10p30302\r\n"
     ]
    }
   ],
   "source": [
    "# Count lines, words, characters in XML data file\n",
    "!wc enwiki-20190420-pages-articles-multistream1.xml-p10p30302"
   ]
  },
  {
   "cell_type": "code",
   "execution_count": 110,
   "metadata": {},
   "outputs": [],
   "source": [
    "from bs4 import BeautifulSoup\n",
    "import pandas as pd"
   ]
  },
  {
   "cell_type": "code",
   "execution_count": 111,
   "metadata": {},
   "outputs": [],
   "source": [
    "def get_pages_from_xml_file(filename, start_tag='<page>', end_tag='</page>'):\n",
    "    \"\"\"Yields each page from the specified XML data file.\"\"\"\n",
    "    page = None\n",
    "    with open(filename) as f:\n",
    "        for line in f:\n",
    "            if start_tag in line:\n",
    "                page = []\n",
    "                page.append(line)\n",
    "            elif end_tag in line:\n",
    "                page.append(line)\n",
    "                page_xml = ''.join(page)\n",
    "                yield page_xml\n",
    "                page = None\n",
    "            else:\n",
    "                if page is not None:\n",
    "                    page.append(line)"
   ]
  },
  {
   "cell_type": "code",
   "execution_count": 112,
   "metadata": {},
   "outputs": [],
   "source": [
    "filename = 'enwiki-20190420-pages-articles-multistream1.xml-p10p30302'\n",
    "pages = list(get_pages_from_xml_file(filename))"
   ]
  },
  {
   "cell_type": "code",
   "execution_count": 113,
   "metadata": {},
   "outputs": [],
   "source": [
    "def get_title_from_page_xml(page_xml):\n",
    "    \"\"\"Returns the title of the given page.\"\"\"\n",
    "    soup = BeautifulSoup(page_xml, 'lxml')\n",
    "    return soup.select_one('title').text"
   ]
  },
  {
   "cell_type": "code",
   "execution_count": 114,
   "metadata": {
    "scrolled": false
   },
   "outputs": [
    {
     "data": {
      "text/plain": [
       "19822"
      ]
     },
     "execution_count": 114,
     "metadata": {},
     "output_type": "execute_result"
    }
   ],
   "source": [
    "len(pages)  # Show the number of pages"
   ]
  },
  {
   "cell_type": "code",
   "execution_count": 115,
   "metadata": {
    "scrolled": true
   },
   "outputs": [
    {
     "name": "stdout",
     "output_type": "stream",
     "text": [
      "CPU times: user 1min 2s, sys: 3.63 s, total: 1min 5s\n",
      "Wall time: 1min 8s\n"
     ]
    }
   ],
   "source": [
    "%time titles = [get_title_from_page_xml(page) for page in pages]"
   ]
  },
  {
   "cell_type": "code",
   "execution_count": 116,
   "metadata": {},
   "outputs": [
    {
     "data": {
      "text/plain": [
       "['AccessibleComputing',\n",
       " 'Anarchism',\n",
       " 'AfghanistanHistory',\n",
       " 'AfghanistanGeography',\n",
       " 'AfghanistanPeople',\n",
       " '...',\n",
       " 'The Lord of the Rings/One Ring',\n",
       " 'Tax Freedom Day',\n",
       " 'Tax',\n",
       " 'Transhumanism',\n",
       " 'TARDIS']"
      ]
     },
     "execution_count": 116,
     "metadata": {},
     "output_type": "execute_result"
    }
   ],
   "source": [
    "titles[:5] + ['...'] + titles[-5:]  # Show the first and last 5 titles"
   ]
  },
  {
   "cell_type": "code",
   "execution_count": 117,
   "metadata": {},
   "outputs": [
    {
     "name": "stdout",
     "output_type": "stream",
     "text": [
      "  <page>\n",
      "    <title>AccessibleComputing</title>\n",
      "    <ns>0</ns>\n",
      "    <id>10</id>\n",
      "    <redirect title=\"Computer accessibility\" />\n",
      "    <revision>\n",
      "      <id>854851586</id>\n",
      "      <parentid>834079434</parentid>\n",
      "      <timestamp>2018-08-14T06:47:24Z</timestamp>\n",
      "      <contributor>\n",
      "        <username>Godsy</username>\n",
      "        <id>23257138</id>\n",
      "      </contributor>\n",
      "      <comment>remove from category for seeking instructions on rcats</comment>\n",
      "      <model>wikitext</model>\n",
      "      <format>text/x-wiki</format>\n",
      "      <text xml:space=\"preserve\">#REDIRECT [[Computer accessibility]]\n",
      "\n",
      "{{R from move}}\n",
      "{{R from CamelCase}}\n",
      "{{R unprintworthy}}</text>\n",
      "      <sha1>42l0cvblwtb4nnupxm6wo000d27t6kf</sha1>\n",
      "    </revision>\n",
      "  </page>\n",
      "\n"
     ]
    }
   ],
   "source": [
    "print(pages[0])  # Print the first page"
   ]
  },
  {
   "cell_type": "code",
   "execution_count": 118,
   "metadata": {},
   "outputs": [],
   "source": [
    "def get_text_from_page_xml(page):\n",
    "    \"\"\"Returns the text of the given page.\"\"\"\n",
    "    soup = BeautifulSoup(page, 'lxml')\n",
    "    return soup.select_one('text').text"
   ]
  },
  {
   "cell_type": "code",
   "execution_count": 119,
   "metadata": {},
   "outputs": [
    {
     "data": {
      "text/plain": [
       "('#REDIRECT [[Computer accessibility]]\\n\\n{{R from move}}\\n{{R from CamelCase}}\\n{{R unprintworthy}}',\n",
       " str)"
      ]
     },
     "execution_count": 119,
     "metadata": {},
     "output_type": "execute_result"
    }
   ],
   "source": [
    "page = pages[0]\n",
    "soup = BeautifulSoup(page, 'lxml')\n",
    "text = get_text_from_page_xml(page)\n",
    "text, type(text)"
   ]
  },
  {
   "cell_type": "code",
   "execution_count": 120,
   "metadata": {},
   "outputs": [],
   "source": [
    "data = []\n",
    "for page in pages:\n",
    "    row = {\n",
    "        'title': get_title_from_page_xml(page),\n",
    "        'text': get_text_from_page_xml(page),\n",
    "    }\n",
    "    data.append(row)"
   ]
  },
  {
   "cell_type": "code",
   "execution_count": 121,
   "metadata": {
    "scrolled": false
   },
   "outputs": [
    {
     "data": {
      "text/html": [
       "<div>\n",
       "<style scoped>\n",
       "    .dataframe tbody tr th:only-of-type {\n",
       "        vertical-align: middle;\n",
       "    }\n",
       "\n",
       "    .dataframe tbody tr th {\n",
       "        vertical-align: top;\n",
       "    }\n",
       "\n",
       "    .dataframe thead th {\n",
       "        text-align: right;\n",
       "    }\n",
       "</style>\n",
       "<table border=\"1\" class=\"dataframe\">\n",
       "  <thead>\n",
       "    <tr style=\"text-align: right;\">\n",
       "      <th></th>\n",
       "      <th>text</th>\n",
       "      <th>title</th>\n",
       "    </tr>\n",
       "  </thead>\n",
       "  <tbody>\n",
       "    <tr>\n",
       "      <th>0</th>\n",
       "      <td>#REDIRECT [[Computer accessibility]]\\n\\n{{R fr...</td>\n",
       "      <td>AccessibleComputing</td>\n",
       "    </tr>\n",
       "    <tr>\n",
       "      <th>1</th>\n",
       "      <td>{{redirect2|Anarchist|Anarchists|the fictional...</td>\n",
       "      <td>Anarchism</td>\n",
       "    </tr>\n",
       "    <tr>\n",
       "      <th>2</th>\n",
       "      <td>#REDIRECT [[History of Afghanistan]]\\n\\n{{Redi...</td>\n",
       "      <td>AfghanistanHistory</td>\n",
       "    </tr>\n",
       "    <tr>\n",
       "      <th>3</th>\n",
       "      <td>#REDIRECT [[Geography of Afghanistan]]\\n\\n{{Re...</td>\n",
       "      <td>AfghanistanGeography</td>\n",
       "    </tr>\n",
       "    <tr>\n",
       "      <th>4</th>\n",
       "      <td>#REDIRECT [[Demographics of Afghanistan]]\\n\\n{...</td>\n",
       "      <td>AfghanistanPeople</td>\n",
       "    </tr>\n",
       "  </tbody>\n",
       "</table>\n",
       "</div>"
      ],
      "text/plain": [
       "                                                text                 title\n",
       "0  #REDIRECT [[Computer accessibility]]\\n\\n{{R fr...   AccessibleComputing\n",
       "1  {{redirect2|Anarchist|Anarchists|the fictional...             Anarchism\n",
       "2  #REDIRECT [[History of Afghanistan]]\\n\\n{{Redi...    AfghanistanHistory\n",
       "3  #REDIRECT [[Geography of Afghanistan]]\\n\\n{{Re...  AfghanistanGeography\n",
       "4  #REDIRECT [[Demographics of Afghanistan]]\\n\\n{...     AfghanistanPeople"
      ]
     },
     "execution_count": 121,
     "metadata": {},
     "output_type": "execute_result"
    }
   ],
   "source": [
    "df = pd.DataFrame(data)\n",
    "df.head()"
   ]
  },
  {
   "cell_type": "markdown",
   "metadata": {},
   "source": [
    "### Challenge"
   ]
  },
  {
   "cell_type": "markdown",
   "metadata": {},
   "source": [
    "#### 1. Create a Pandas dataframe containing the title and text of each page.\n",
    "\n",
    "* Implement the `get_text_from_page_xml` function above.\n",
    "* Re-create the dataframe with the text field filled in.\n",
    "\n",
    "#### 2. Identify the five pages that have the _longest_ text.\n",
    "\n",
    "* Find the length of each page's `<text>...</text>` element and add it to your dataframe.\n",
    "* Sort the data frame by text length, descending.\n",
    "* What are the titles of the five longest articles?"
   ]
  },
  {
   "cell_type": "code",
   "execution_count": 122,
   "metadata": {},
   "outputs": [],
   "source": [
    "text_length = []\n",
    "for row in range(len(df.text)):\n",
    "    text_length.append(len(df.text[row]))"
   ]
  },
  {
   "cell_type": "code",
   "execution_count": 123,
   "metadata": {},
   "outputs": [],
   "source": [
    "df['text_length'] = 'text_length'"
   ]
  },
  {
   "cell_type": "code",
   "execution_count": 124,
   "metadata": {},
   "outputs": [
    {
     "data": {
      "text/plain": [
       "Index(['text', 'title', 'text_length'], dtype='object')"
      ]
     },
     "execution_count": 124,
     "metadata": {},
     "output_type": "execute_result"
    }
   ],
   "source": [
    "df.columns"
   ]
  },
  {
   "cell_type": "code",
   "execution_count": 125,
   "metadata": {},
   "outputs": [],
   "source": [
    "for row in range(len(df)):\n",
    "    df.text_length[row] = text_length[row]"
   ]
  },
  {
   "cell_type": "code",
   "execution_count": 126,
   "metadata": {
    "scrolled": false
   },
   "outputs": [],
   "source": [
    "high_values = df.text_length.sort_values(ascending=False).head().index"
   ]
  },
  {
   "cell_type": "code",
   "execution_count": 127,
   "metadata": {},
   "outputs": [
    {
     "data": {
      "text/html": [
       "<div>\n",
       "<style scoped>\n",
       "    .dataframe tbody tr th:only-of-type {\n",
       "        vertical-align: middle;\n",
       "    }\n",
       "\n",
       "    .dataframe tbody tr th {\n",
       "        vertical-align: top;\n",
       "    }\n",
       "\n",
       "    .dataframe thead th {\n",
       "        text-align: right;\n",
       "    }\n",
       "</style>\n",
       "<table border=\"1\" class=\"dataframe\">\n",
       "  <thead>\n",
       "    <tr style=\"text-align: right;\">\n",
       "      <th></th>\n",
       "      <th>text</th>\n",
       "      <th>title</th>\n",
       "      <th>text_length</th>\n",
       "    </tr>\n",
       "  </thead>\n",
       "  <tbody>\n",
       "    <tr>\n",
       "      <th>10165</th>\n",
       "      <td>{{short description|Wikipedia list page}}\\n{{s...</td>\n",
       "      <td>List of compositions by Johann Sebastian Bach</td>\n",
       "      <td>432964</td>\n",
       "    </tr>\n",
       "    <tr>\n",
       "      <th>15129</th>\n",
       "      <td>{{about|the country}}\\n{{pp-semi-indef}}\\n{{pp...</td>\n",
       "      <td>Pakistan</td>\n",
       "      <td>376957</td>\n",
       "    </tr>\n",
       "    <tr>\n",
       "      <th>15287</th>\n",
       "      <td>{{Redirect|Philippine|the town in the Netherla...</td>\n",
       "      <td>Philippines</td>\n",
       "      <td>357950</td>\n",
       "    </tr>\n",
       "    <tr>\n",
       "      <th>9299</th>\n",
       "      <td>{{Short description|Overview of relations}}{{U...</td>\n",
       "      <td>Foreign relations of India</td>\n",
       "      <td>317725</td>\n",
       "    </tr>\n",
       "    <tr>\n",
       "      <th>8838</th>\n",
       "      <td>{{short description|Aspect of history}}\\n{{pp-...</td>\n",
       "      <td>History of India</td>\n",
       "      <td>316816</td>\n",
       "    </tr>\n",
       "  </tbody>\n",
       "</table>\n",
       "</div>"
      ],
      "text/plain": [
       "                                                    text  \\\n",
       "10165  {{short description|Wikipedia list page}}\\n{{s...   \n",
       "15129  {{about|the country}}\\n{{pp-semi-indef}}\\n{{pp...   \n",
       "15287  {{Redirect|Philippine|the town in the Netherla...   \n",
       "9299   {{Short description|Overview of relations}}{{U...   \n",
       "8838   {{short description|Aspect of history}}\\n{{pp-...   \n",
       "\n",
       "                                               title text_length  \n",
       "10165  List of compositions by Johann Sebastian Bach      432964  \n",
       "15129                                       Pakistan      376957  \n",
       "15287                                    Philippines      357950  \n",
       "9299                      Foreign relations of India      317725  \n",
       "8838                                History of India      316816  "
      ]
     },
     "execution_count": 127,
     "metadata": {},
     "output_type": "execute_result"
    }
   ],
   "source": [
    "df.loc[high_values]"
   ]
  },
  {
   "cell_type": "code",
   "execution_count": 128,
   "metadata": {},
   "outputs": [],
   "source": [
    "longest_entries_df = df.loc[high_values]"
   ]
  },
  {
   "cell_type": "code",
   "execution_count": 129,
   "metadata": {},
   "outputs": [],
   "source": [
    "longest_entries_df = longest_entries_df.reset_index(drop=True)"
   ]
  },
  {
   "cell_type": "code",
   "execution_count": 130,
   "metadata": {},
   "outputs": [
    {
     "data": {
      "text/html": [
       "<div>\n",
       "<style scoped>\n",
       "    .dataframe tbody tr th:only-of-type {\n",
       "        vertical-align: middle;\n",
       "    }\n",
       "\n",
       "    .dataframe tbody tr th {\n",
       "        vertical-align: top;\n",
       "    }\n",
       "\n",
       "    .dataframe thead th {\n",
       "        text-align: right;\n",
       "    }\n",
       "</style>\n",
       "<table border=\"1\" class=\"dataframe\">\n",
       "  <thead>\n",
       "    <tr style=\"text-align: right;\">\n",
       "      <th></th>\n",
       "      <th>text</th>\n",
       "      <th>title</th>\n",
       "      <th>text_length</th>\n",
       "    </tr>\n",
       "  </thead>\n",
       "  <tbody>\n",
       "    <tr>\n",
       "      <th>0</th>\n",
       "      <td>{{short description|Wikipedia list page}}\\n{{s...</td>\n",
       "      <td>List of compositions by Johann Sebastian Bach</td>\n",
       "      <td>432964</td>\n",
       "    </tr>\n",
       "    <tr>\n",
       "      <th>1</th>\n",
       "      <td>{{about|the country}}\\n{{pp-semi-indef}}\\n{{pp...</td>\n",
       "      <td>Pakistan</td>\n",
       "      <td>376957</td>\n",
       "    </tr>\n",
       "    <tr>\n",
       "      <th>2</th>\n",
       "      <td>{{Redirect|Philippine|the town in the Netherla...</td>\n",
       "      <td>Philippines</td>\n",
       "      <td>357950</td>\n",
       "    </tr>\n",
       "    <tr>\n",
       "      <th>3</th>\n",
       "      <td>{{Short description|Overview of relations}}{{U...</td>\n",
       "      <td>Foreign relations of India</td>\n",
       "      <td>317725</td>\n",
       "    </tr>\n",
       "    <tr>\n",
       "      <th>4</th>\n",
       "      <td>{{short description|Aspect of history}}\\n{{pp-...</td>\n",
       "      <td>History of India</td>\n",
       "      <td>316816</td>\n",
       "    </tr>\n",
       "  </tbody>\n",
       "</table>\n",
       "</div>"
      ],
      "text/plain": [
       "                                                text  \\\n",
       "0  {{short description|Wikipedia list page}}\\n{{s...   \n",
       "1  {{about|the country}}\\n{{pp-semi-indef}}\\n{{pp...   \n",
       "2  {{Redirect|Philippine|the town in the Netherla...   \n",
       "3  {{Short description|Overview of relations}}{{U...   \n",
       "4  {{short description|Aspect of history}}\\n{{pp-...   \n",
       "\n",
       "                                           title text_length  \n",
       "0  List of compositions by Johann Sebastian Bach      432964  \n",
       "1                                       Pakistan      376957  \n",
       "2                                    Philippines      357950  \n",
       "3                     Foreign relations of India      317725  \n",
       "4                               History of India      316816  "
      ]
     },
     "execution_count": 130,
     "metadata": {},
     "output_type": "execute_result"
    }
   ],
   "source": [
    "longest_entries_df"
   ]
  },
  {
   "cell_type": "markdown",
   "metadata": {},
   "source": [
    "# cleaning up the wiki text"
   ]
  },
  {
   "cell_type": "code",
   "execution_count": 131,
   "metadata": {},
   "outputs": [
    {
     "name": "stdout",
     "output_type": "stream",
     "text": [
      "{{short description|Wikipedia list page}}\n",
      "{{see also|List of compositions by Johann Sebastian Bach by BWV number}}\n",
      "{{Very long|date=November 2018}}\n",
      "[[File:Canon BWV 1076.jpg|thumb|upright=1.21| ''Canon triplex a 6'': first printed in 1747 (below), it appears on both versions of the portrait [[Elias Gottlob Haussmann|Haussmann]] made of Bach (1746, 1748 – above). In the 19th-century [[Bach Gesellschaft]] edition the canon was published in Volume 45<sup>1</sup>, p. 138. In 1950 the piece was assigned the number 1076 in [[Wolfgang Schmieder|Schmieder]]'s catalogue of Bach's works (BWV). The 1998 edition of that catalogue (BWV<sup>2a</sup>) mentions Haussmann's paintings as original sources for the work (p. 438), and likewise the Bach digital website gives a description of both paintings as sources for the piece (linked from Bach digital Work page {{BDW|1262}}).]]\n",
      "{{Lists of compositions by Johann Sebastian Bach}}\n",
      "[[Johann Sebastian Bach]] composed [[Bach cantata|cantatas]], [[List of motets by Johann Sebastian Bach|motets]], [[Bach's church music in Latin|masses, Magnificats]], [[Passions (Bach)|Passions]], [[List of oratorios by Johann Sebastian Bach|oratorios]], [[List of chorale harmonisations by Johann Sebastian Bach|four-part chorales]], [[List of songs and arias by Johann Sebastian Bach|songs and arias]]. His instrumental music includes [[concerto (Bach)|concerto]]s, [[suite (Bach)|suite]]s, [[sonata (Bach)|sonata]]s, [[List of fugal works by Johann Sebastian Bach|fugues]], and other works [[List of organ compositions by Johann Sebastian Bach|for organ]], [[List of keyboard and lute compositions by Johann Sebastian Bach|harpsichord, lute]], [[List of chamber music works by Johann Sebastian Bach|violin, cello, flute, chamber ensemble]] and [[List of orchestral works by Johann Sebastian Bach|orchestra]].\n",
      "\n",
      "There are over 1000 known compositions by Bach. Nearly all of them are listed in the ''{{lang|de|[[Bach-Werke-Verzeichnis]]}}'' (BWV), which is the best known and\n"
     ]
    }
   ],
   "source": [
    "# a bit messy and hard to read\n",
    "print(longest_entries_df.text[0][:2000])"
   ]
  },
  {
   "cell_type": "code",
   "execution_count": 132,
   "metadata": {},
   "outputs": [],
   "source": [
    "#bring in a parsing library\n",
    "import wikitextparser as wtp\n",
    "\n",
    "for file_num in [0,1,2,3,4]:\n",
    "    parsed = wtp.parse(longest_entries_df.text[file_num])\n",
    "    to_remove = parsed.templates\n",
    "\n",
    "    #look for the wikitext templates and remove them\n",
    "    #from the text\n",
    "    for index in range(len(to_remove)):\n",
    "        if str(to_remove[index]) in longest_entries_df.text[file_num]:\n",
    "            longest_entries_df.text[file_num] = longest_entries_df.text[file_num].replace(f'{to_remove[index]}', \"\")"
   ]
  },
  {
   "cell_type": "code",
   "execution_count": 133,
   "metadata": {
    "scrolled": false
   },
   "outputs": [
    {
     "name": "stdout",
     "output_type": "stream",
     "text": [
      "\n",
      "\n",
      "\n",
      "[[File:Canon BWV 1076.jpg|thumb|upright=1.21| ''Canon triplex a 6'': first printed in 1747 (below), it appears on both versions of the portrait [[Elias Gottlob Haussmann|Haussmann]] made of Bach (1746, 1748 – above). In the 19th-century [[Bach Gesellschaft]] edition the canon was published in Volume 45<sup>1</sup>, p. 138. In 1950 the piece was assigned the number 1076 in [[Wolfgang Schmieder|Schmieder]]'s catalogue of Bach's works (BWV). The 1998 edition of that catalogue (BWV<sup>2a</sup>) mentions Haussmann's paintings as original sources for the work (p. 438), and likewise the Bach digital website gives a description of both paintings as sources for the piece (linked from Bach digital Work page ).]]\n",
      "\n",
      "[[Johann Sebastian Bach]] composed [[Bach cantata|cantatas]], [[List of motets by Johann Sebastian Bach|motets]], [[Bach's church music in Latin|masses, Magnificats]], [[Passions (Bach)|Passions]], [[List of oratorios by Johann Sebastian Bach|oratorios]], [[List of chorale harmonisations by Johann Sebastian Bach|four-part chorales]], [[List of songs and arias by Johann Sebastian Bach|songs and arias]]. His instrumental music includes [[concerto (Bach)|concerto]]s, [[suite (Bach)|suite]]s, [[sonata (Bach)|sonata]]s, [[List of fugal works by Johann Sebastian Bach|fugues]], and other works [[List of organ compositions by Johann Sebastian Bach|for organ]], [[List of keyboard and lute compositions by Johann Sebastian Bach|harpsichord, lute]], [[List of chamber music works by Johann Sebastian Bach|violin, cello, flute, chamber ensemble]] and [[List of orchestral works by Johann Sebastian Bach|orchestra]].\n",
      "\n",
      "There are over 1000 known compositions by Bach. Nearly all of them are listed in the '''' (BWV), which is the best known and most widely used catalogue of Bach's compositions.\n",
      "\n",
      "\n",
      "==Listing Bach's compositions==\n",
      "The earliest lists of Bach's compositions are given by [[Biographies of Johann Sebastian Bach|his biographers]], starting from [[Bach's Nekrolog|his obituary]]\n"
     ]
    }
   ],
   "source": [
    "#a sampling of what it looks like now\n",
    "#much easier to read\n",
    "print(longest_entries_df.text[0][:2000])"
   ]
  },
  {
   "cell_type": "code",
   "execution_count": null,
   "metadata": {},
   "outputs": [],
   "source": []
  }
 ],
 "metadata": {
  "kernelspec": {
   "display_name": "learn-env",
   "language": "python",
   "name": "learn-env"
  },
  "language_info": {
   "codemirror_mode": {
    "name": "ipython",
    "version": 3
   },
   "file_extension": ".py",
   "mimetype": "text/x-python",
   "name": "python",
   "nbconvert_exporter": "python",
   "pygments_lexer": "ipython3",
   "version": "3.6.8"
  }
 },
 "nbformat": 4,
 "nbformat_minor": 2
}
