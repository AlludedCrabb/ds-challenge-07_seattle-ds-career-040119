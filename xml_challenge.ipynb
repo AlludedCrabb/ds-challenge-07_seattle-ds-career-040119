{
 "cells": [
  {
   "cell_type": "code",
   "execution_count": 1,
   "metadata": {},
   "outputs": [],
   "source": [
    "#!pip install beautifulsoup\n",
    "#!wget https://dumps.wikimedia.org/enwiki/20190420/enwiki-20190420-pages-articles-multistream1.xml-p10p30302.bz2\n",
    "#!bunzip2 enwiki-20190420-pages-articles-multistream1.xml-p10p30302.bz2    "
   ]
  },
  {
   "cell_type": "code",
   "execution_count": 2,
   "metadata": {},
   "outputs": [
    {
     "name": "stdout",
     "output_type": "stream",
     "text": [
      " 4586335 74563548 642819893 enwiki-20190420-pages-articles-multistream1.xml-p10p30302\r\n"
     ]
    }
   ],
   "source": [
    "# Count lines, words, characters in XML data file\n",
    "!wc enwiki-20190420-pages-articles-multistream1.xml-p10p30302"
   ]
  },
  {
   "cell_type": "code",
   "execution_count": 3,
   "metadata": {},
   "outputs": [],
   "source": [
    "from bs4 import BeautifulSoup\n",
    "import pandas as pd"
   ]
  },
  {
   "cell_type": "code",
   "execution_count": 4,
   "metadata": {},
   "outputs": [],
   "source": [
    "def get_pages_from_xml_file(filename, start_tag='<page>', end_tag='</page>'):\n",
    "    \"\"\"Yields each page from the specified XML data file.\"\"\"\n",
    "    page = None\n",
    "    with open(filename) as f:\n",
    "        for line in f:\n",
    "            if start_tag in line:\n",
    "                page = []\n",
    "                page.append(line)\n",
    "            elif end_tag in line:\n",
    "                page.append(line)\n",
    "                page_xml = ''.join(page)\n",
    "                yield page_xml\n",
    "                page = None\n",
    "            else:\n",
    "                if page is not None:\n",
    "                    page.append(line)"
   ]
  },
  {
   "cell_type": "code",
   "execution_count": 5,
   "metadata": {},
   "outputs": [],
   "source": [
    "filename = 'enwiki-20190420-pages-articles-multistream1.xml-p10p30302'\n",
    "pages = list(get_pages_from_xml_file(filename))"
   ]
  },
  {
   "cell_type": "code",
   "execution_count": 6,
   "metadata": {},
   "outputs": [],
   "source": [
    "def get_title_from_page_xml(page_xml):\n",
    "    \"\"\"Returns the title of the given page.\"\"\"\n",
    "    soup = BeautifulSoup(page_xml, 'lxml')\n",
    "    return soup.select_one('title').text"
   ]
  },
  {
   "cell_type": "code",
   "execution_count": 7,
   "metadata": {
    "scrolled": false
   },
   "outputs": [
    {
     "data": {
      "text/plain": [
       "19822"
      ]
     },
     "execution_count": 7,
     "metadata": {},
     "output_type": "execute_result"
    }
   ],
   "source": [
    "len(pages)  # Show the number of pages"
   ]
  },
  {
   "cell_type": "code",
   "execution_count": 8,
   "metadata": {
    "scrolled": true
   },
   "outputs": [
    {
     "name": "stdout",
     "output_type": "stream",
     "text": [
      "CPU times: user 58.1 s, sys: 1.69 s, total: 59.8 s\n",
      "Wall time: 1min 1s\n"
     ]
    }
   ],
   "source": [
    "%time titles = [get_title_from_page_xml(page) for page in pages]"
   ]
  },
  {
   "cell_type": "code",
   "execution_count": 9,
   "metadata": {},
   "outputs": [
    {
     "data": {
      "text/plain": [
       "['AccessibleComputing',\n",
       " 'Anarchism',\n",
       " 'AfghanistanHistory',\n",
       " 'AfghanistanGeography',\n",
       " 'AfghanistanPeople',\n",
       " '...',\n",
       " 'The Lord of the Rings/One Ring',\n",
       " 'Tax Freedom Day',\n",
       " 'Tax',\n",
       " 'Transhumanism',\n",
       " 'TARDIS']"
      ]
     },
     "execution_count": 9,
     "metadata": {},
     "output_type": "execute_result"
    }
   ],
   "source": [
    "titles[:5] + ['...'] + titles[-5:]  # Show the first and last 5 titles"
   ]
  },
  {
   "cell_type": "code",
   "execution_count": 10,
   "metadata": {},
   "outputs": [
    {
     "name": "stdout",
     "output_type": "stream",
     "text": [
      "  <page>\n",
      "    <title>AccessibleComputing</title>\n",
      "    <ns>0</ns>\n",
      "    <id>10</id>\n",
      "    <redirect title=\"Computer accessibility\" />\n",
      "    <revision>\n",
      "      <id>854851586</id>\n",
      "      <parentid>834079434</parentid>\n",
      "      <timestamp>2018-08-14T06:47:24Z</timestamp>\n",
      "      <contributor>\n",
      "        <username>Godsy</username>\n",
      "        <id>23257138</id>\n",
      "      </contributor>\n",
      "      <comment>remove from category for seeking instructions on rcats</comment>\n",
      "      <model>wikitext</model>\n",
      "      <format>text/x-wiki</format>\n",
      "      <text xml:space=\"preserve\">#REDIRECT [[Computer accessibility]]\n",
      "\n",
      "{{R from move}}\n",
      "{{R from CamelCase}}\n",
      "{{R unprintworthy}}</text>\n",
      "      <sha1>42l0cvblwtb4nnupxm6wo000d27t6kf</sha1>\n",
      "    </revision>\n",
      "  </page>\n",
      "\n"
     ]
    }
   ],
   "source": [
    "print(pages[0])  # Print the first page"
   ]
  },
  {
   "cell_type": "code",
   "execution_count": 11,
   "metadata": {},
   "outputs": [],
   "source": [
    "def get_text_from_page_xml(page):\n",
    "    \"\"\"Returns the text of the given page.\"\"\"\n",
    "    soup = BeautifulSoup(page, 'lxml')\n",
    "    return soup.select_one('text').text"
   ]
  },
  {
   "cell_type": "code",
   "execution_count": 12,
   "metadata": {},
   "outputs": [
    {
     "data": {
      "text/plain": [
       "('#REDIRECT [[Computer accessibility]]\\n\\n{{R from move}}\\n{{R from CamelCase}}\\n{{R unprintworthy}}',\n",
       " str)"
      ]
     },
     "execution_count": 12,
     "metadata": {},
     "output_type": "execute_result"
    }
   ],
   "source": [
    "page = pages[0]\n",
    "soup = BeautifulSoup(page, 'lxml')\n",
    "text = get_text_from_page_xml(page)\n",
    "text, type(text)"
   ]
  },
  {
   "cell_type": "code",
   "execution_count": 13,
   "metadata": {},
   "outputs": [],
   "source": [
    "data = []\n",
    "for page in pages:\n",
    "    row = {\n",
    "        'title': get_title_from_page_xml(page),\n",
    "        'text': get_text_from_page_xml(page),\n",
    "    }\n",
    "    data.append(row)"
   ]
  },
  {
   "cell_type": "code",
   "execution_count": 30,
   "metadata": {},
   "outputs": [
    {
     "data": {
      "text/plain": [
       "[<html><body><page>\n",
       " <title>AccessibleComputing</title>\n",
       " <ns>0</ns>\n",
       " <id>10</id>\n",
       " <redirect title=\"Computer accessibility\"></redirect>\n",
       " <revision>\n",
       " <id>854851586</id>\n",
       " <parentid>834079434</parentid>\n",
       " <timestamp>2018-08-14T06:47:24Z</timestamp>\n",
       " <contributor>\n",
       " <username>Godsy</username>\n",
       " <id>23257138</id>\n",
       " </contributor>\n",
       " <comment>remove from category for seeking instructions on rcats</comment>\n",
       " <model>wikitext</model>\n",
       " <format>text/x-wiki</format>\n",
       " <text xml:space=\"preserve\">#REDIRECT [[Computer accessibility]]\n",
       " \n",
       " {{R from move}}\n",
       " {{R from CamelCase}}\n",
       " {{R unprintworthy}}</text>\n",
       " <sha1>42l0cvblwtb4nnupxm6wo000d27t6kf</sha1>\n",
       " </revision>\n",
       " </page>\n",
       " </body></html>]"
      ]
     },
     "execution_count": 30,
     "metadata": {},
     "output_type": "execute_result"
    }
   ],
   "source": [
    "soup."
   ]
  },
  {
   "cell_type": "code",
   "execution_count": 16,
   "metadata": {},
   "outputs": [
    {
     "data": {
      "text/html": [
       "<div>\n",
       "<style scoped>\n",
       "    .dataframe tbody tr th:only-of-type {\n",
       "        vertical-align: middle;\n",
       "    }\n",
       "\n",
       "    .dataframe tbody tr th {\n",
       "        vertical-align: top;\n",
       "    }\n",
       "\n",
       "    .dataframe thead th {\n",
       "        text-align: right;\n",
       "    }\n",
       "</style>\n",
       "<table border=\"1\" class=\"dataframe\">\n",
       "  <thead>\n",
       "    <tr style=\"text-align: right;\">\n",
       "      <th></th>\n",
       "      <th>text</th>\n",
       "      <th>title</th>\n",
       "    </tr>\n",
       "  </thead>\n",
       "  <tbody>\n",
       "    <tr>\n",
       "      <th>0</th>\n",
       "      <td>#REDIRECT [[Computer accessibility]]\\n\\n{{R fr...</td>\n",
       "      <td>AccessibleComputing</td>\n",
       "    </tr>\n",
       "    <tr>\n",
       "      <th>1</th>\n",
       "      <td>{{redirect2|Anarchist|Anarchists|the fictional...</td>\n",
       "      <td>Anarchism</td>\n",
       "    </tr>\n",
       "    <tr>\n",
       "      <th>2</th>\n",
       "      <td>#REDIRECT [[History of Afghanistan]]\\n\\n{{Redi...</td>\n",
       "      <td>AfghanistanHistory</td>\n",
       "    </tr>\n",
       "    <tr>\n",
       "      <th>3</th>\n",
       "      <td>#REDIRECT [[Geography of Afghanistan]]\\n\\n{{Re...</td>\n",
       "      <td>AfghanistanGeography</td>\n",
       "    </tr>\n",
       "    <tr>\n",
       "      <th>4</th>\n",
       "      <td>#REDIRECT [[Demographics of Afghanistan]]\\n\\n{...</td>\n",
       "      <td>AfghanistanPeople</td>\n",
       "    </tr>\n",
       "  </tbody>\n",
       "</table>\n",
       "</div>"
      ],
      "text/plain": [
       "                                                text                 title\n",
       "0  #REDIRECT [[Computer accessibility]]\\n\\n{{R fr...   AccessibleComputing\n",
       "1  {{redirect2|Anarchist|Anarchists|the fictional...             Anarchism\n",
       "2  #REDIRECT [[History of Afghanistan]]\\n\\n{{Redi...    AfghanistanHistory\n",
       "3  #REDIRECT [[Geography of Afghanistan]]\\n\\n{{Re...  AfghanistanGeography\n",
       "4  #REDIRECT [[Demographics of Afghanistan]]\\n\\n{...     AfghanistanPeople"
      ]
     },
     "execution_count": 16,
     "metadata": {},
     "output_type": "execute_result"
    }
   ],
   "source": [
    "df = pd.DataFrame(data)\n",
    "df.head()"
   ]
  },
  {
   "cell_type": "markdown",
   "metadata": {},
   "source": [
    "### Challenge"
   ]
  },
  {
   "cell_type": "markdown",
   "metadata": {},
   "source": [
    "#### 1. Create a Pandas dataframe containing the title and text of each page.\n",
    "\n",
    "* Implement the `get_text_from_page_xml` function above.\n",
    "* Re-create the dataframe with the text field filled in.\n",
    "\n",
    "#### 2. Identify the five pages that have the _longest_ text.\n",
    "\n",
    "* Find the length of each page's `<text>...</text>` element and add it to your dataframe.\n",
    "* Sort the data frame by text length, descending.\n",
    "* What are the titles of the five longest articles?"
   ]
  },
  {
   "cell_type": "code",
   "execution_count": 31,
   "metadata": {
    "scrolled": true
   },
   "outputs": [
    {
     "name": "stdout",
     "output_type": "stream",
     "text": [
      "Collecting wikitextparser\n",
      "\u001b[?25l  Downloading https://files.pythonhosted.org/packages/02/e0/2061fa2c41f925e36b5dbb4130e7d425671bde40e967367cdcbec875f1fb/wikitextparser-0.24.3-py3-none-any.whl (87kB)\n",
      "\u001b[K    100% |████████████████████████████████| 92kB 4.2MB/s ta 0:00:011\n",
      "\u001b[?25hRequirement already satisfied: wcwidth in /anaconda3/envs/learn-env/lib/python3.6/site-packages (from wikitextparser) (0.1.7)\n",
      "Collecting regex (from wikitextparser)\n",
      "\u001b[?25l  Downloading https://files.pythonhosted.org/packages/11/d9/e37129676d508adf833fb3e3c3fbcb4e5a10183cf45b6c7edbaa57b4a1f2/regex-2019.04.14.tar.gz (644kB)\n",
      "\u001b[K    100% |████████████████████████████████| 645kB 5.2MB/s ta 0:00:011\n",
      "\u001b[?25hBuilding wheels for collected packages: regex\n",
      "  Building wheel for regex (setup.py) ... \u001b[?25ldone\n",
      "\u001b[?25h  Stored in directory: /Users/jacobcrabb/Library/Caches/pip/wheels/ae/35/86/47caa8baa5e9340dcb02a719f64a7091900e28af7368d35731\n",
      "Successfully built regex\n",
      "Installing collected packages: regex, wikitextparser\n",
      "Successfully installed regex-2019.4.14 wikitextparser-0.24.3\n",
      "\u001b[33mYou are using pip version 19.0.3, however version 19.1 is available.\n",
      "You should consider upgrading via the 'pip install --upgrade pip' command.\u001b[0m\n"
     ]
    }
   ],
   "source": [
    "!pip install wikitextparser"
   ]
  },
  {
   "cell_type": "code",
   "execution_count": 79,
   "metadata": {
    "scrolled": true
   },
   "outputs": [],
   "source": [
    "import wikitextparser as wtp"
   ]
  },
  {
   "cell_type": "code",
   "execution_count": 80,
   "metadata": {},
   "outputs": [
    {
     "data": {
      "text/plain": [
       "[Template('{{short description|Fictional time-travelling device}}'),\n",
       " Template('{{Other uses}}'),\n",
       " Template('{{Use British English|date=November 2012}}'),\n",
       " Template('{{Use dmy dates|date=November 2012}}'),\n",
       " Template('{{Infobox fictional artifact\\n| name            = TARDIS\\n| image           = Tardis BBC Television Center.jpg\\n| caption         = TARDIS prop used between 2010 and 2017.\\n| source          = [[Doctor Who]]\\n| source_type     = TV\\n| company         = [[BBC]]\\n| first           = [[An Unearthly Child]]\\n| date            = 1963\\n| creator         = {{unbulleted list|[[Sydney Newman]]|[[C. E. Webber]]|[[Donald Wilson (writer and producer)|Donald Wilson]]}}\\n| episode_creator = [[Anthony Coburn]]\\n| genre           = [[Science fiction]]\\n| type            = [[Time travel|Time machine]]/[[spacecraft]]\\n| uses            = Travels through time and space\\n| traits          = Can change its outer dimensions and inner layout, impregnable, telepathic \\n| affiliation     = [[Time Lord]]s <br/> [[The Doctor (Doctor Who)|The Doctor]]\\n}}'),\n",
       " Template('{{unbulleted list|[[Sydney Newman]]|[[C. E. Webber]]|[[Donald Wilson (writer and producer)|Donald Wilson]]}}'),\n",
       " Template('{{refn|group=\"nb\"|TARDIS is an acronym of \"Time And Relative Dimension in Space\". Generally, \"TARDIS\" is written in all uppercase letters—this convention was popularised by the [[Target Books|Target]] [[List of Doctor Who novelisations|novelisations]] of the 1970s. However, the use of \"\\'\\'Tardis\\'\\'\" is equally correct (it was used in the [[Dr. Who (Dalek films)|Dr. Who]] {{sic}} films) and is consistent with current [[Abbreviation#Style conventions|British press style]], in which [[acronym]]s that form pronounceable words are spelled with only the first letters capitalised (for example, Bafta), while acronyms requiring each letter to be read out (also known as \"[[initialisms]]\") are capitalised in their entirety (for example, BBC). Many examples of the form \\'\\'Tardis\\'\\' are found in media and, occasionally, licensed publications (in the [[Doctor Who (series 1)|2005 series]] episode \"[[World War Three (Doctor Who)|World War Three]]\", the [[caller ID]] of the TARDIS is displayed on [[Rose Tyler]]\\'s mobile phone as \"Tardis calling\"—this capitalisation of only the initial letter being the default setting for [[Nokia]] mobile phones). The \\'\\'[[Oxford English Dictionary|OED]]\\'\\' has the word \"Tardis\" capitalised as such with a first appearance from the \\'\\'Times\\'\\' in 1969.<ref>{{cite web |title=Tardis, n. |url=http://www.oed.com/view/Entry/247369 |date=June 2002 |work=Oxford English Dictionary |quote=His best poems are like Doctor Who\\'s Tardis, the solid streetcorner police box, which actually contains a sidereal spaceship. |subscription=yes}}</ref>}}'),\n",
       " Template('{{sic}}'),\n",
       " Template(\"{{cite web |title=Tardis, n. |url=http://www.oed.com/view/Entry/247369 |date=June 2002 |work=Oxford English Dictionary |quote=His best poems are like Doctor Who's Tardis, the solid streetcorner police box, which actually contains a sidereal spaceship. |subscription=yes}}\"),\n",
       " Template('{{refn|group=\"nb\"|The word \"\\'\\'Tardis\\'\\'\" first appeared in print in the Christmas 1963 edition of \\'\\'[[Radio Times]]\\'\\'<ref>{{cite web|title=Article introducing Episode 1 of \"The Daleks\" (\"The Mutants\"). From the \\'\\'Radio Times\\'\\'. Volume. 161. Issue No. 2093. |url=http://www.cuttingsarchive.org.uk/radiotim/cs-s01-04/season1/dal_a.htm |website=The Doctor Who Cuttings Archive |date=21–27 December 1963 |deadurl=yes |archiveurl=https://web.archive.org/web/20060619142319/http://cuttingsarchive.org.uk/radiotim/cs-s01-04/season1/dal_a.htm |archivedate=19 June 2006 }}</ref> and this BBC (until 2011) publication has often{{additional citation needed|date=February 2016}} italicised it to connote a ship\\'s name.}}'),\n",
       " Template('{{cite web|title=Article introducing Episode 1 of \"The Daleks\" (\"The Mutants\"). From the \\'\\'Radio Times\\'\\'. Volume. 161. Issue No. 2093. |url=http://www.cuttingsarchive.org.uk/radiotim/cs-s01-04/season1/dal_a.htm |website=The Doctor Who Cuttings Archive |date=21–27 December 1963 |deadurl=yes |archiveurl=https://web.archive.org/web/20060619142319/http://cuttingsarchive.org.uk/radiotim/cs-s01-04/season1/dal_a.htm |archivedate=19 June 2006 }}'),\n",
       " Template('{{additional citation needed|date=February 2016}}'),\n",
       " Template('{{IPAc-en|ˈ|t|ɑːr|d|ɪ|s}}'),\n",
       " Template('{{refn|group=\"nb\"|There is some disagreement over whether the \"D\" in the name stands for \"dimension\" or \"dimensions\"; both have been used in various episodes. The first story, \\'\\'[[An Unearthly Child]]\\'\\' (1963), used the singular \"Dimension\". The 1964 novelisation \\'\\'[[The Daleks|Doctor Who in an Exciting Adventure with the Daleks]]\\'\\' used \"Dimensions\" for the first time and the 1965 serial \\'\\'[[The Time Meddler]]\\'\\' introduced the plural in the television series - although the script had it as singular, actor [[Maureen O\\'Brien]] changed it to \"Dimensions\".<ref>{{cite magazine |last=Pixley |first=Andrew |last2=Morris |first2=Jonathan |author-link2=Jonathan Morris (author) |last3=Atkinson |first3=Richard |last4=McGown |first4= |last5=Hadoke |first5=Toby |author-link5=Toby Hadoke |date=27 January 2016 |title=The Time Meddler: Production |url= |magazine=Doctor Who: The Complete History |location= |publisher=[[Panini Comics|Panini Magazines]]/[[Hachette (publisher)|Hachette Partworks Ltd]] |access-date= |volume=5 |page=134 }}</ref> Since then both versions have been used. It is singular in \\'\\'[[Frontios]]\\'\\' (1984), and in \"[[Rose (Doctor Who episode)|Rose]]\" (2005), the [[Ninth Doctor]] uses the singular (although this was a decision of actor [[Christopher Eccleston]]—<ref>{{cite magazine |last=Pixley |first=Andrew |last2=Morris |first2=Jonathan |author-link2=Jonathan Morris (author) |last3=Atkinson |first3=Richard |last4=McGown |first4=Alistair |last5=Hadoke |first5=Toby |author-link5=Toby Hadoke |date=10 February 2016 |title=Rose: Production |url= |magazine=Doctor Who: The Complete History |location= |publisher=[[Panini Comics|Panini Magazines]]/[[Hachette (publisher)|Hachette Partworks Ltd]] |access-date= |volume=48 |pages=57–58 }}</ref> the line was scripted in the plural).<ref>{{cite magazine  |last=Pixley |first=Andrew |last2=Morris |first2=Jonathan |author-link2=Jonathan Morris (author) |last3=Atkinson |first3=Richard |last4=McGown |first4=Alistair |last5=Hadoke |first5=Toby |author-link5=Toby Hadoke |date=10 February 2016 |title=Rose: Pre-production |url= |magazine=Doctor Who: The Complete History |location= |publisher=[[Panini Comics|Panini Magazines]]/[[Hachette (publisher)|Hachette Partworks Ltd]] |access-date= |volume=48 |page=37 }}</ref> The [[Tenth Doctor]] uses the singular in \"[[Smith and Jones (Doctor Who)|Smith and Jones]]\" (2007). The plaque set on the TARDIS console in the 2010–12 design also uses the singular form. In the 2011 episode \"[[The Doctor\\'s Wife]]\" the TARDIS herself uses \"Dimension\". In \"[[The Zygon Inversion]]\" (2015), Osgood mentions hearing \"a couple of different versions\" of what TARDIS stands for. The [[Twelfth Doctor]] responds with a new acronym: \"Totally and Radically Driving in Space\".}}'),\n",
       " Template('{{cite magazine |last=Pixley |first=Andrew |last2=Morris |first2=Jonathan |author-link2=Jonathan Morris (author) |last3=Atkinson |first3=Richard |last4=McGown |first4= |last5=Hadoke |first5=Toby |author-link5=Toby Hadoke |date=27 January 2016 |title=The Time Meddler: Production |url= |magazine=Doctor Who: The Complete History |location= |publisher=[[Panini Comics|Panini Magazines]]/[[Hachette (publisher)|Hachette Partworks Ltd]] |access-date= |volume=5 |page=134 }}'),\n",
       " Template('{{cite magazine |last=Pixley |first=Andrew |last2=Morris |first2=Jonathan |author-link2=Jonathan Morris (author) |last3=Atkinson |first3=Richard |last4=McGown |first4=Alistair |last5=Hadoke |first5=Toby |author-link5=Toby Hadoke |date=10 February 2016 |title=Rose: Production |url= |magazine=Doctor Who: The Complete History |location= |publisher=[[Panini Comics|Panini Magazines]]/[[Hachette (publisher)|Hachette Partworks Ltd]] |access-date= |volume=48 |pages=57–58 }}'),\n",
       " Template('{{cite magazine  |last=Pixley |first=Andrew |last2=Morris |first2=Jonathan |author-link2=Jonathan Morris (author) |last3=Atkinson |first3=Richard |last4=McGown |first4=Alistair |last5=Hadoke |first5=Toby |author-link5=Toby Hadoke |date=10 February 2016 |title=Rose: Pre-production |url= |magazine=Doctor Who: The Complete History |location= |publisher=[[Panini Comics|Panini Magazines]]/[[Hachette (publisher)|Hachette Partworks Ltd]] |access-date= |volume=48 |page=37 }}'),\n",
       " Template('{{refn|group=\"nb\"|A [[Listed building|Grade II-listed]] police box in [[Newport, Wales]] is now commonly known as the [[Somerton TARDIS]] and has been painted with a scarf resembling that of [[Tom Baker]]\\'s [[Fourth Doctor]].}}'),\n",
       " Template('{{cite web |url=http://www.ipo.gov.uk/tmcase/Results/1/UK00001068700 |title=Case details for Trade Mark 1068700 |accessdate=28 January 2007 |publisher=[[UK Intellectual Property Office|UK Patent Office]] }}'),\n",
       " Template('{{Cite web|url=http://www.chakoteya.net/doctorwho/2-9.htm|title=The Doctor Who Transcripts – The Time Meddler|website=www.chakoteya.net|language=en-gb|access-date=2017-01-27|deadurl=yes|archiveurl=https://web.archive.org/web/20170202024622/http://www.chakoteya.net/doctorwho/2-9.htm|archivedate=2 February 2017|df=dmy-all}}'),\n",
       " Template('{{cite web|url=https://www.bbc.co.uk/news/uk-england-kent-13411516 |title=Doctor Who fan in tardis replica plan for Herne Bay|date=16 May 2011|work=[[BBC Online]]|accessdate=20 February 2013}}'),\n",
       " Template('{{cite web|url=http://homepages.paradise.net.nz/~trekker/policeboxes/tv1.html|title=TARDIS prop history|first=Anthony|last=Sibley|accessdate=26 October 2013}}'),\n",
       " Template('{{cite web|url=http://www.eee.strath.ac.uk/r.w.stewart/boxes.pdf |title=The Police Signal Box: A 100 Year History |accessdate=6 August 2007 |last=Stewart |first=Robert W. |date=June 1994|format=PDF |publisher=[[University of Strathclyde]] |page=16}}'),\n",
       " Template('{{cite news|url=http://news.bbc.co.uk/1/hi/entertainment/8580299.stm |title=Doctor Who boss not worried by budget squeeze |work=BBC News Entertainment |publisher=BBC | date=23 March 2010}}'),\n",
       " Template('{{cite web|url=http://www.bbc.co.uk/doctorwho/classic/episodeguide/unearthlychild/detail.shtml|title=Doctor Who Classic Episode Guide: An Unearthly Child|publisher=BBC |last1=Howe|first1=David J|last2=Walker|first2=Stephen James|accessdate=30 January 2011}}'),\n",
       " Template('{{citation needed|date=July 2017}}'),\n",
       " Template('{{cite web|url=http://www.themindrobber.co.uk/tardis-police-box.html |title=Doctor Who A History of the TARDIS Police Box Prop and its Modifications |accessdate=17 February 2010 }}'),\n",
       " Template('{{refn|group=\"nb\"|The episode\\'s writer [[Steven Moffat]] confirmed that this line was an [[in-joke]] aimed at fans on \"Internet forums\".<ref>{{cite magazine |last=Pixley |first=Andrew |last2=Morris |first2=Jonathan |author-link2=Jonathan Morris (author) |last3=Atkinson |first3=Richard |last4=McGown |first4=Alistair |date=23 March 2016 |title=Blink: Pre-production |url= |magazine=Doctor Who: The Complete History |location= |publisher=[[Panini Comics|Panini Magazines]]/[[Hachette (publisher)|Hachette Partworks Ltd]] |access-date= |volume=56 |page=57 }}</ref>}}'),\n",
       " Template('{{cite magazine |last=Pixley |first=Andrew |last2=Morris |first2=Jonathan |author-link2=Jonathan Morris (author) |last3=Atkinson |first3=Richard |last4=McGown |first4=Alistair |date=23 March 2016 |title=Blink: Pre-production |url= |magazine=Doctor Who: The Complete History |location= |publisher=[[Panini Comics|Panini Magazines]]/[[Hachette (publisher)|Hachette Partworks Ltd]] |access-date= |volume=56 |page=57 }}'),\n",
       " Template(\"{{Cite web|url=https://www.radiotimes.com/news/2009-07-29/interview-doctor-whos-brian-hodgson-on-creating-the-sounds-of-the-tardis-and-daleks/|title=Interview: Doctor Who's Brian Hodgson on creating the sounds of the Tardis and Daleks|website=Radio Times|language=en|access-date=2019-02-25}}\"),\n",
       " Template('{{cite book |last=Ness |first=Patrick |date=2013 |title=Tip of the Tongue |location=London |publisher=[[Puffin Books]] |page=12 |isbn=978-1-405-91213-6}}'),\n",
       " Template('{{citation needed|date=February 2016}}'),\n",
       " Template('{{cite web|url=http://www.patent.gov.uk/tm/t-find/t-find-number?detailsrequested=C&trademark=2104259 |title=Case details for Trade Mark 2104259 |accessdate=17 January 2007 |publisher=[[UK Intellectual Property Office]] }}'),\n",
       " Template('{{cite web|url=http://www.patent.gov.uk/tm//legal/decisions/2002/o33602.pdf |title=In the matter of Application No. 2104259 by The British Broadcasting Corporation to register a series of three marks in Classes 9, 16, 25 and 41 and in the matter of Opposition thereto under No. 48452 by The Metropolitan Police Authority |accessdate=17 January 2007 |last=Knight |first=Mike |format=PDF |publisher=[[UK Intellectual Property Office|UK Patent Office]]}}'),\n",
       " Template('{{Cite news|url=http://news.bbc.co.uk/1/hi/entertainment/tv_and_radio/2352743.stm |title=BBC wins police Tardis case |accessdate=17 January 2007 |date=23 October 2002 |work=BBC News   }}'),\n",
       " Template('{{cite serial | title = [[An Unearthly Child]] | series = [[Doctor Who]] | credits = Writers [[Anthony Coburn]], [[C. E. Webber]], Directors [[Waris Hussein]], [[Douglas Camfield]], Producers [[Verity Lambert]], [[Mervyn Pinfield]] | network = [[BBC]] | location = London | date=23 November – 14 December 1963 }}'),\n",
       " Template(\"{{Cite book|title=[[The Discontinuity Guide]] |last1=Cornell |first1=Paul |authorlink1=Paul Cornell |last2=Day |first2=Martin |authorlink2=Martin Day |last3=Topping |first3=Keith |authorlink3=Keith Topping |year=1995 |publisher=[[Virgin Books]] |location=London |isbn=0-426-20442-5 |page=7 |format=reprinted on BBC ''Doctor Who'' website |chapter=An Unearthly Child |chapterurl=http://www.bbc.co.uk/doctorwho/classic/episodeguide/unearthlychild/detail.shtml }}\"),\n",
       " Template('{{cite serial |title=[[The Deadly Assassin]]|episode=Part 1 |series=[[Doctor Who]] |credits=by [[Robert Holmes (scriptwriter)|Robert Holmes]], directed by [[David Maloney]] |network=[[BBC]] |date=30 October – 20 November 1976 }}'),\n",
       " Template('{{cite serial|title=[[The War Games (Doctor Who)|The War Games]] |episode=Episode 8| series = [[Doctor Who]]| credits = Writers [[Terrance Dicks]] and [[Malcolm Hulke]], director [[David Maloney]]|network = [[BBC]]| date=19 April – 21 June 1969 }}'),\n",
       " Template('{{cite serial|title = [[Frontier in Space]]|episode=Episode 4| series = [[Doctor Who]]| credits = Writer [[Malcolm Hulke]], director [[Paul Bernard (director)|Paul Bernard]]|network = [[BBC]]| date=24 February – 31 March 1973 }}'),\n",
       " Template('{{cite serial|title = [[Logopolis]]|episode=Part 1| series = [[Doctor Who]]| credits = Writer [[Christopher H. Bidmead]], director [[Peter Grimwade]]|network = [[BBC]]| date=28 February – 21 March 1981 }}'),\n",
       " Template(\"{{cite serial|title = [[The Invisible Enemy (Doctor Who)|The Invisible Enemy]]|episode=Part 1| series = [[Doctor Who]]|first1=Bob|last1=Baker|first2=Dave|last2=Martin|network = [[BBC]]| date=1–22 October 1977|quote=Number two control room has been closed for redecoration. I don't like the colour. ... That's the trouble with computers. Always think in black and white.}}\"),\n",
       " Template('{{cite episode|title=[[The Eleventh Hour (Doctor Who)|The Eleventh Hour]]|series = [[Doctor Who]]|first=Steven|last=Moffat|network = [[BBC]]|station=[[BBC One|BBC1]]|date=3 April 2010}}'),\n",
       " Template('{{cite episode|title=[[Time Crash]]|series = [[Doctor Who]]|first=Steven|last=Moffat|network=[[BBC]]|station=[[BBC One|BBC1]]|date=16 November 2007}}'),\n",
       " Template('{{dubious|date=February 2016}}'),\n",
       " Template('{{cite web|url=http://www.doctorwhoprops.com/props.php |title=Doctor Who Props |accessdate=23 November 2007 }}'),\n",
       " Template('{{Multiple issues|section=yes|\\n{{Lead too long|date=November 2016}}\\n{{Peacock|date=November 2016}}\\n{{Speculation|date=November 2016}}\\n}}'),\n",
       " Template('{{Lead too long|date=November 2016}}'),\n",
       " Template('{{Peacock|date=November 2016}}'),\n",
       " Template('{{Speculation|date=November 2016}}'),\n",
       " Template('{{cite episode|title=[[Journey to the Centre of the TARDIS]] |series=[[Doctor Who]] |first=Stephen |last=Thompson |network=[[BBC]] |date=27 April 2013}}'),\n",
       " Template(\"{{Cite episode |title=[[The Doctor's Wife]] |series=[[Doctor Who]] |first=Neil |last=Gaiman |network=[[BBC]] |date=14 May 2011}}\"),\n",
       " Template('{{clarify|date=January 2016}}'),\n",
       " Template('{{clarify|date=January 2016}}'),\n",
       " Template('{{citation needed|date=January 2016}}'),\n",
       " Template('{{cite web|url=http://www.bbc.co.uk/doctorwho/classic/episodeguide/fullcircle/detail.shtml|title=Doctor Who Classic Episode Guide – Full Circle|work=bbc.co.uk}}'),\n",
       " Template('{{Cite episode|title=[[The Impossible Astronaut]]|series=[[Doctor Who]]|last=Moffat|first=Stephen|network=[[BBC]]|date=23 April 2011}}'),\n",
       " Template('{{Cite episode|title=[[Flatline]]|series=[[Doctor Who]]|last=Mathieson|first=Jamie|network=[[BBC]]|date=18 October 2014}}'),\n",
       " Template(\"{{Cite book|title=[[Cat's Cradle: Time's Crucible]]|last=Platt|first=Marc|publisher=[[Virgin Books]]|year=1992|isbn=0-426-20365-8|location=|pages=}}\"),\n",
       " Template('{{Cite book|title=[[Blood Heat]]|last=Mortimore|first=Jim|publisher=[[Virgin Books]]|year=1993|isbn=0-426-20399-2|location=|pages=}}'),\n",
       " Template('{{Cite book|title=[[The Ancestor Cell]]|last=Anghelides|first=Peter |display-authors=etal |publisher=[[BBC Books]]|year=2000|isbn=0-563-53809-0|location=|pages=}}'),\n",
       " Template('{{Cite book| last=Russell | first=Gary | year=2006 | title=Doctor Who: The Inside Story | location=London |publisher=BBC Books | page=86| isbn=0-563-48649-X }}'),\n",
       " Template('{{refimprove section|date=January 2016}}'),\n",
       " Template('{{Cite web|url=http://www.warpedfactor.com/2015/08/doctor-who-man-who-designed-tardis.html|title=Doctor Who: The Man Who Designed The TARDIS|website=www.warpedfactor.com|access-date=2018-10-18}}'),\n",
       " Template('{{cite video | people=Levine, Ian |year=2006 | url= https://www.imdb.com/title/tt0775493 |title= Inside The Spaceship: The Story Of The TARDIS | medium=Documentary | location= London |publisher=BBC Worldwide}}'),\n",
       " Template('{{citation needed|date=January 2016}}'),\n",
       " Template('{{citation needed|date=January 2016}}'),\n",
       " Template('{{citation needed|date=August 2012}}'),\n",
       " Template('{{original research inline|date=January 2016}}'),\n",
       " Template('{{vague|date=January 2016}}'),\n",
       " Template('{{which|date=January 2016}}'),\n",
       " Template('{{citation needed|date=January 2016}}'),\n",
       " Template(\"{{cite web|url=http://www.radiotimes.com/news/2014-10-02/doctor-who-peter-capaldi-goes-tardis-hopping-in-new-video|title=New Doctor Who video shows Peter Capaldi in Matt Smith's Tardis|author=Huw Fullerton|work=RadioTimes}}\"),\n",
       " Template('{{update after|2016|1}}'),\n",
       " Template('{{cite web| first=Patrick| last=Mulkern| url=http://www.radiotimes.com/news/2012-12-08/doctor-who---the-snowmen-preview| title=Doctor Who&nbsp;— The Snowmen preview| work=[[Radio Times]]| date=8 December 2012| accessdate=18 December 2012}}'),\n",
       " Template('{{POV statement|date=January 2016}}'),\n",
       " Template('{{original research inline|date=January 2016}}'),\n",
       " Template(\"{{cite web|first=Morgan|last=Jeffery|url=http://www.digitalspy.com/british-tv/s7/doctor-who/news/a446242/doctor-who-steven-moffat-on-new-tardis-its-quite-a-scary-place.html|title='Doctor Who' Steven Moffat on new TARDIS: 'It's quite a scary place'|publisher=[[Digital Spy]]|date=19 December 2012|accessdate=27 December 2012}}\"),\n",
       " Template('{{cite web|url=https://www.radiotimes.com/news/tv/2018-10-16/an-idea-for-david-tennants-tardis-was-recycled-for-jodie-whittakers-doctor-who-series/|title=An idea for David Tennant’s Tardis was recycled for Jodie Whittaker’s Doctor Who series|author=|date=|website=Radio Times}}'),\n",
       " Template('{{citation needed|date=January 2016}}'),\n",
       " Template('{{citation needed|date=January 2016}}'),\n",
       " Template('{{clarify|date=January 2016}}'),\n",
       " Template(\"{{Cite book|title=[[The Discontinuity Guide]] |last1=Cornell |first1=Paul |authorlink1=Paul Cornell |last2=Day |first2=Martin |authorlink2=Martin Day |last3=Topping |first3=Keith |authorlink3=Keith Topping |year=1995 |publisher=[[Virgin Books]] |location=London |isbn=0-426-20442-5 |pages=49, 143 |format=reprinted on BBC ''Doctor Who'' website |chapter=The Three Doctors |chapterurl=http://www.bbc.co.uk/doctorwho/classic/episodeguide/threedoctors/detail.shtml }}\"),\n",
       " Template(\"{{cite episode|title=[[The Doctor's Wife]]|series=[[Doctor Who]]|last=Gaiman|first=Neil|network=[[BBC]]|station=[[BBC One|BBC1]]|date=14 May 2011}}\"),\n",
       " Template('{{linktext|percussive maintenance}}'),\n",
       " Template('{{who|date=February 2016}}'),\n",
       " Template('{{clarify|date=February 2016}}'),\n",
       " Template('{{citation needed|date=February 2016}}'),\n",
       " Template('{{by whom|date=January 2016}}'),\n",
       " Template('{{undue weight inline|date=January 2016}}'),\n",
       " Template('{{undue weight inline|date=January 2016}}'),\n",
       " Template('{{vague|date=January 2016}}'),\n",
       " Template('{{update after|2016|1}}'),\n",
       " Template('{{original research inline|date=February 2016}}'),\n",
       " Template('{{clarify|date=February 2016}}'),\n",
       " Template('{{Refimprove section|date=February 2016}}'),\n",
       " Template('{{cite web|url=http://www.bbc.co.uk/doctorwho/classic/episodeguide/keepertraken/detail.shtml |title=BBC – Doctor Who Classic Episode Guide – The Keeper of Traken – Details |publisher=Bbc.co.uk |accessdate=2014-01-06}}'),\n",
       " Template('{{refn|group=\"nb\"|The \\'\\'[[Logopolis]]\\'\\' novelisation (1982) refers to this form as \"an architectural pillar, stocky, yellowing and fluted\", while \\'\\'[[Time-Flight]]\\'\\' (1983) describes it as a \"Corinthian pillar\". It is realised on television as a stunted Doric column, and not as an [[Ionic order|Ionic column]] as is often written.<ref>{{cite magazine |last=Watcher |first=The |date=20 August 2009 |title=Cliché Busting: Chameleon, Comedian, Corinthian and Caricature |url= |magazine=[[Doctor Who Magazine]] |location= |publisher= |access-date= |issue=412 |page=48 |quote=Well, despite what you might have read absolutely everywhere, including the last paragraph, the Master\\'s TARDIS is not, repeat \\'\\'not\\'\\', an Ionic column.... it\\'s a Doric column, topped by a simple slab or abacus. }}</ref>}}'),\n",
       " Template(\"{{cite magazine |last=Watcher |first=The |date=20 August 2009 |title=Cliché Busting: Chameleon, Comedian, Corinthian and Caricature |url= |magazine=[[Doctor Who Magazine]] |location= |publisher= |access-date= |issue=412 |page=48 |quote=Well, despite what you might have read absolutely everywhere, including the last paragraph, the Master's TARDIS is not, repeat ''not'', an Ionic column.... it's a Doric column, topped by a simple slab or abacus. }}\"),\n",
       " Template('{{additional citation needed|date=February 2016}}'),\n",
       " Template('{{citation needed|date=February 2016}}'),\n",
       " Template('{{refn|group=\"nb\"|\"Space and Inter-Dimensional Robot All-purpose Transporter\" according to the novelisation of \\'\\'The War Games\\'\\' (1979).}}'),\n",
       " Template('{{Cite web|url=http://www.bbc.co.uk/doctorwho/classic/episodeguide/chase/detail.shtml|title=BBC – Doctor Who Classic Episode Guide – The Chase – Details|website=www.bbc.co.uk|access-date=2018-03-17}}'),\n",
       " Template('{{Citation needed|date=June 2010}}'),\n",
       " Template('{{vague|date=February 2016}}'),\n",
       " Template('{{which|date=February 2016}}'),\n",
       " Template('{{citation needed|date=February 2016}}'),\n",
       " Template('{{which|date=February 2016}}'),\n",
       " Template('{{which|date=February 2016}}'),\n",
       " Template('{{which|date=February 2016}}'),\n",
       " Template('{{Cite book|title=The Scarlet Empress|last=Magrs|first=Paul|publisher=[[BBC Books]]|year=1998|isbn=0-563-40595-3|location=|pages=}}'),\n",
       " Template('{{according to whom|date=January 2016}}'),\n",
       " Template('{{clarify|date=February 2016}}'),\n",
       " Template('{{disputed inline|date=February 2016}}'),\n",
       " Template('{{Citation needed|date=June 2010}}'),\n",
       " Template('{{citation needed|date=February 2016}}'),\n",
       " Template('{{cite web|title=Doctor Who Tardis 4-Way USB Hub |publisher=Firebox.com |url=http://www.firebox.com/index.html?dir=firebox&action=product&pid=1713 |accessdate=31 January 2007 |deadurl=yes |archiveurl=https://web.archive.org/web/20070205132824/http://www.firebox.com/index.html?dir=firebox&action=product&pid=1713 |archivedate=5 February 2007 |df= }}'),\n",
       " Template('{{Cite news| url=http://news.bbc.co.uk/1/hi/entertainment/4529332.stm| title=Miniature Tardis sells at auction |publisher=BBC News  | date=15 December 2005| accessdate=19 April 2006}}'),\n",
       " Template('{{cite web|url=http://www.TarDisk.com|title=Company Website, January 1, 2015 |accessdate=2015-09-30}}'),\n",
       " Template('{{cite web|url=http://tech.co/tardisk-macbook-storage-expansion-thats-bigger-inside-2015-02 |title=TarDisk: MacBook Storage Expansion That’s Bigger on the Inside |publisher=tech.co |date=2015-02-18|accessdate=2015-09-30}}'),\n",
       " Template('{{cite web|url=http://www.tardishire.co.uk/ |title=Tardis Environmental UK |publisher=Tardishire.co.uk |accessdate=2014-01-06}}'),\n",
       " Template(\"{{Cite news|newspaper=[[The Guardian]]|title=Let's do the time warp again|first=Adrian|last=Searle|date=16 February 2009|url=https://www.theguardian.com/culture/2009/feb/16/mark-wallinger-the-russian-linesman|accessdate=3 November 2009 | location=London}}\"),\n",
       " Template('{{Cite news|newspaper=[[Evening Standard]] |title=Reflective Doctor Who Tardis on show at Hayward Gallery |first=Louise |last=Jury |url=http://www.thisislondon.co.uk/standard/article-23639332-reflective-doctor-who-tardis-on-show-at-hayward-gallery.do |date=2 February 2009 |accessdate=3 November 2009 |deadurl=yes |archiveurl=https://web.archive.org/web/20100223004654/http://www.thisislondon.co.uk/standard/article-23639332-reflective-doctor-who-tardis-on-show-at-hayward-gallery.do |archivedate=23 February 2010 |df= }}'),\n",
       " Template(\"{{cite web|work=BBC |title=A Beginner's Guide to the TARDIS|url=http://www.bbc.co.uk/doctorwho/classic/tardiscam/intro.shtml|accessdate=3 November 2009}}\"),\n",
       " Template(\"{{cite web|url=http://www.timey-wimey.com/2013/05/02/spot-the-tardis-in-iron-maiden-cover-art/ |title=Spot the TARDIS in Iron Maiden Cover Art &#124; Doctor Who Screencaps – It's Timey-Wimey! |publisher=Timey-wimey.com |date=2013-05-02 |accessdate=2014-01-06}}\"),\n",
       " Template(\"{{cite web|url=http://www.timey-wimey.com/2013/04/30/tardis-parked-in-red-dwarf-landing-bay/ |title=TARDIS Parked in Red Dwarf Landing Bay &#124; Doctor Who Screencaps – It's Timey-Wimey! |publisher=Timey-wimey.com |date=2013-04-30 |accessdate=2014-01-06}}\"),\n",
       " Template('{{Cite news|url=http://www.denofgeek.com/tv/doctor-who/35801/doctor-who-the-brief-cameos-that-are-definitely-canon|title=Doctor Who: the brief cameos that are definitely canon|work=Den of Geek|access-date=2017-07-01|language=en}}'),\n",
       " Template('{{cite web|author=Sorin |url=http://news.allnumis.com/doctor-who-50th-anniversary-niue-island-tardis.html |title=Doctor Who .. Happy Birthday coin for its 50th anniversary – Niue Island – TARDIS &#124; Collectibles News |publisher=News.allnumis.com |date=2013-06-17 |accessdate=2014-01-06}}'),\n",
       " Template('{{cite web|url=https://www.google.de/maps/@51.492148,-0.192888,3a,75y,264.48h,76.43t/data=!3m6!1e1!3m4!1sRVc3Pk62fRNn0MbgP1mKOA!2e0!7i13312!8i6656!6m1!1e1|title=Google Maps|last=|first=|date=|work=Google Maps|archive-url=|archive-date=|dead-url=|access-date=}}'),\n",
       " Template('{{cite web|url=https://www.youtube.com/watch?v=VQVmJ4C9qjs|title=The First Physical TARDIS on Antarctica – Doctor Who 50th Anniversary November 23rd 2013|first=|last=TalkStoryBookstore|date=27 December 2013|publisher=|via=YouTube}}'),\n",
       " Template('{{Portal|Doctor Who|BBC}}'),\n",
       " Template('{{Reflist|30em}}'),\n",
       " Template('{{Refbegin}}'),\n",
       " Template('{{Cite book| last = Harris | first = Mark | title = The Doctor Who Technical Manual | publisher=[[Random House]] | year = 1983 | location = UK | isbn = 0-394-86214-7}}'),\n",
       " Template('{{Cite book| last = Nathan-Turner | first = John | authorlink = John Nathan-Turner | title = The TARDIS Inside Out | publisher=Picadilly Press, Ltd | year = 1985 | location = UK | isbn = 0-394-87415-3}}'),\n",
       " Template('{{Cite book|last=Howe|first=David J.|authorlink=David J. Howe|author2=[[Stephen James Walker]] |title=The First Doctor Handbook|publisher=[[Virgin Books|Virgin Publishing]]|year=1994|isbn=0-426-20430-1}}'),\n",
       " Template('{{Cite book|last=Howe|first=David J.|author2=Stephen James Walker |title=The Television Companion: The Unofficial and Unauthorised Guide to Doctor Who|publisher=[[Telos Publishing Ltd.]]|year=2003|isbn=1-903889-51-0}}'),\n",
       " Template(\"{{Cite book| last = Howe | first = David J.|author2=Arnold T. Blumberg  | title = Howe's Transcendental Toybox: The Unauthorised Guide to Doctor Who Collectibles |publisher=[[Telos Publishing Ltd.]] | year = 2003 | location = UK | isbn = 1-903889-56-1}}\"),\n",
       " Template('{{Refend}}'),\n",
       " Template('{{Wiktionary|TARDIS|Tardis}}'),\n",
       " Template('{{TardisIndexFile}}'),\n",
       " Template('{{Doctor Who}}')]"
      ]
     },
     "execution_count": 80,
     "metadata": {},
     "output_type": "execute_result"
    }
   ],
   "source": [
    "parsed = wtp.parse(df.text[row])\n",
    "parsed.templates"
   ]
  },
  {
   "cell_type": "code",
   "execution_count": 81,
   "metadata": {},
   "outputs": [],
   "source": [
    "\n",
    "for index in range(len(parsed.templates)):\n",
    "    if str(parsed.templates[index]) in df.text[1]:\n",
    "        df.text[1] = df.text[1].replace(f'{parsed.templates[index]}', \"\")"
   ]
  },
  {
   "cell_type": "code",
   "execution_count": 82,
   "metadata": {},
   "outputs": [
    {
     "data": {
      "text/plain": [
       "'\\n\\n\\n\\n\\n\\n\\'\\'\\'Anarchism\\'\\'\\' is an [[anti-authoritarian]] [[political philosophy]] that advocates [[Self-governance|self-governed]] societies based on voluntary, [[cooperative]] institutions and the rejection of [[Hierarchy|hierarchies]] those societies view as unjust. These institutions are often described as [[Stateless society|stateless societies]], although several authors have defined them more specifically as distinct institutions based on non-hierarchical or [[Free association (communism and anarchism)|free associations]]. Anarchism holds the [[Sovereign state|state]] to be undesirable, unnecessary and harmful.\\n\\nAnarchism is often considered a [[Far-left politics|far-left]]   ideology and much of its [[Anarchist economics|economics]] and [[Anarchist law|legal philosophy]] reflect [[Libertarian socialism|anti-authoritarian interpretations]] of [[Anarcho-communism|communism]], [[Collectivist anarchism|collectivism]], [[Anarcho-syndicalism|syndicalism]], [[Mutualism (economic theory)|mutualism]], or [[participatory economics]]. As anarchism does not offer a fixed body of doctrine from a single particular worldview, many [[History of anarchism|anarchist types and traditions]] exist and varieties of anarchy diverge widely. [[Anarchist schools of thought]] can differ fundamentally, supporting anything from extreme [[individualism]] to complete [[collectivism]]. Strains of anarchism have often been divided into the categories of [[Social anarchism|social]] and [[individualist anarchism]], or similar dual classifications.\\n\\n== Etymology, terminology and definition ==\\n\\nThe etymological origin of anarchism derives from ancient Greek word \\'\\'anarkhia\\'\\'. \\'\\'Anarkhia\\'\\' meant \"without a ruler\" as it was composed by the prefix a  (i.e. \"without\") and the word \\'\\'arkhos\\'\\' (i.e. leader or ruler). The suffix [[-ism]] is used to denote the ideological current that favours anarchism. The first known use of this word was in 1642. Various factions within the [[French Revolution]] labelled opponents as anarchists  although few shared many views of later anarchists. There would be many revolutionaries of the early 19th century who contributed to the anarchist doctrines of the next generation, such as [[William Godwin]] and [[Wilhelm Weitling]], but they did not use the word anarchist or anarchism in describing themselves or their beliefs.\\n\\nThe first political philosopher to call himself an anarchist was [[Pierre-Joseph Proudhon]], marking the formal birth of anarchism in the mid-19th century. Since the 1890s and beginning in France, the term [[libertarianism]] has often been used as a synonym for anarchism and its use as a synonym is still common outside the United States. On the other hand, some use libertarianism to refer to [[Individualist anarchism|individualistic free-market philosophy]] only, referring to [[free-market anarchism]] as libertarian anarchism.\\n\\nWhile [[Anti-statism|opposition to the state]] is central, defining anarchism is not an easy task as there is a lot of talk among scholars and anarchists on the matter and various currents perceive anarchism slightly differently. Hence, it might be true to say that anarchism is a cluster of political philosophies opposing [[authority]] and [[hierarchical organization|hierarchical organisation]] (including the [[State (polity)|state]], [[Anarchism and capitalism|capitalism]], [[Anarchism and nationalism|nationalism]] and all associated [[institution]]s) in the conduct of all [[human relations]] in favour of a society based on [[voluntary association]], [[freedom]] and [[decentralisation]], but this definition has its own shortcomings as the definition based on etymology (which is simply a negation of a ruler), or based on anti-statism (anarchism is much more than that) or even the anti-authoritarian (which is an \\'\\'a posteriori\\'\\' concussion). Major elements of the definition of anarchism include: a) the will for a non coercive society; b) the rejection of the state apparatus; c) belief in human nature, although it is even harder to define it than anarchism; and d) a suggestion on how to act to pursue the ideal of [[anarchy]].\\n\\n== History ==\\n\\n\\n=== Prehistoric and ancient world ===\\n[[File:Paolo Monti - Servizio fotografico (Napoli, 1969) - BEIC 6353768.jpg|thumb|140px|[[Zeno of Citium]] (c. 334 – c. 262 BC), whose \\'\\'[[Republic (Zeno)|Republic]]\\'\\' inspired 19th century anarchist philosopher [[Peter Kropotkin]]]]\\nDuring the prehistoric era of mankind, an established authority did not exist. It was after the creation of towns and cities that hierarchy was invented and anarchistic ideas espoused as a reaction. Most notable examples of anarchism in the ancient world were in [[History of China|China]] and [[Ancient Greece|Greece]]. In China, [[philosophical anarchism]], meaning peaceful delegitimising of the state, was delineated by [[Taoism|Taoist philosophers]] (i.e. [[Zhuang Zhou|Zhuangzi]] and [[Lao Tzu]]). Likewise in Greece, anarchist attitudes were articulated by tragedians and philosophers. [[Aeschylus]] and [[Sophocles]] used the myth of [[Antigone]] to illustrate the conflict of [[autonomy|personal autonomy]] with the state rules. Socrates questioned Athenian authorities constantly and insisted to the right of individual freedom of consciousness. [[Cynicism (philosophy)|Cynics]] dismissed human law (\\'\\'Nomos\\'\\') and associated authorities while trying to live according to nature (\\'\\'physis\\'\\'). [[Stoics]] were supportive of a society based on unofficial and friendly relations among its citizens without the presence of a state.\\n\\nDuring the [[Middle Ages]], there was no anarchistic activity except some ascetic religious movements in the Islamic world or in Christian Europe. This kind of tradition later gave birth to [[religious anarchism]]. In Persia, a [[Zoroastrianism|Zoroastrian Prophet]] known as [[Mazdak]] was calling for an [[Egalitarianism|egalitarian society]] and the [[abolition of monarchy]], but he soon found himself executed by the king. In [[Basra]], religious sects preached against the state. In Europe, various sects developed anti-state and libertarian tendencies. Those currents were the precursor of religious anarchism in the centuries to come. It was in the [[Renaissance]] and with the spread of [[Rationalism|reasoning]] and [[humanism]] through Europe that libertarian ideas emerged. Writers were outlining in their novels ideal societies that were based not on coercion but voluntarism. The [[Age of Enlightenment|Enlightenment]] further pushed towards anarchism with the optimism for social progress.\\n\\n=== Classical anarchism ===\\nThe turning point towards anarchism was the [[French Revolution]] in which the anti-state and federalist sentiments began to take a form, mostly by [[Enragés]] and \\'\\'[[sans-culottes]]\\'\\'. Some prominent figures of anarchism begun developing the first anarchist currents. That is the era of classical anarchism that lasted until the end of the Spanish Civil War of 1936 and was the golden age of anarchism. [[William Godwin]] espoused [[philosophical anarchism]] in England morally delegitimising the state, [[Max Stirner]]\\'s thinking paved the way to individualism and [[Pierre-Joseph Proudhon]]\\'s theory of [[Mutualism (economic theory)|mutualism]] found fertile soil in France.\\n\\n[[File:Bakunin.png|thumb|upright|Anarchist [[Mikhail Bakunin]] opposed the [[Marxism|Marxist]] aim of [[dictatorship of the proletariat]] in favour of universal rebellion and allied himself with the federalists in the [[International Workingmen\\'s Association|First International]] before his expulsion by the Marxists]]\\n[[Michael Bakunin]] took mutualism and extended it to [[collectivist anarchism]]. Bakunin\\'s current ([[Jura Federation]]) entered the class worker union called the [[International Workingmen\\'s Association]] (IWA), later known as the First International, formed in 1864 to unite diverse revolutionary currents. Due to its links to active workers\\' movements, the International became a significant organisation. [[Karl Marx]] became a leading figure in the International and a member of its General Council. Proudhon\\'s followers, the [[Mutualism (economic theory)|mutualists]], opposed Marx\\'s [[state socialism]], advocating political [[abstentionism]] and small property holdings. Bakunin\\'s followers entered a bitter dispute with Karl Marx which ended with the split of the workers movement that officially took place in the [[Hague Congress (1872)|Fifth Congress of the IWA in the Hague, 1872]]. The major reason lay in fundamentally different approaches on how the workers would emancipate themselves. Marx was advocating for the creation of a political party to take part in electoral struggles whereas Bakunin thought that the whole set of Marx\\'s thinking was very authoritarian. Bakunin is famous for predicting that if such a party would gain power by Marxist\\'s terms, it would end up to be the new tyrant of workers. After being expelled from the IWA, anarchists formed the [[Anarchist St. Imier International|St. Imier International]]. Under the influence of [[Peter Kropotkin]], a Russian philosopher and scientist, [[anarcho-communism]] overlapped collectivism. Anarcho-communists, who drew inspiration from the 1871 [[Paris Commune]], advocated for free federation and distribution of goods according to one needs. The major argument of anarcho-communism was that Bakunian perspective would lead to antagonism among collectives.\\n\\nAt the turning of the century, anarchism has spread all over the world. In China, small groups of students imported the humanistic pro-science version of anarcho-communism. Tokyo was a hotspot for rebellious youth from countries of the far east, pouring into Japanese capital to study. In [[Latin America]], [[Anarchism in Argentina|São Paulo]] was a stronghold and anarcho-syndicalism was the most prominent left-wing ideology. During that time, a minority of anarchists embarked into utilising of violence in order to achieve their political ends. This kind of strategy is named as [[propaganda by the deed]]. The dismemberment of the French socialist movement into many groups and the execution and exile of many [[Communards]] to penal colonies following the suppression of the Paris Commune favoured individualist political expression and acts. Even though many anarchists distanced themselves to those terrorist acts, anarchists were persecuted and were given bad fame. [[Illegalism]], stealing the possessions of the rich because capitalists were not their rightful owners, was another strategy some anarchist adopted during the same years.\\n\\n[[File:Makhno group.jpg|thumb|left|[[Nestor Makhno]] with members of the anarchist [[Revolutionary Insurrectionary Army of Ukraine]]]]\\nAnarchists took part enthusiastically in the [[Russian Revolution]]. During the revolution, anarchists had concerns, but they opted for the revolution rather than supporting the [[White movement|Whites]]. However, they met harsh suppression after the [[Bolshevik government]] was stabilised. Anarchists in central Russia were either imprisoned, driven underground or joined the victorious [[Bolsheviks]]. Anarchists from Petrograd and Moscow instead fled to Ukraine. The [[Kronstadt rebellion]] and [[Nestor Makhno]]\\'s struggle in the [[Free Territory]] were the most notable examples. With the anarchists being crashed in Russia, two new antithetical currents emerged, namely [[platformism]] and [[synthesis anarchism]]. Platformists sought to create a coherent group that would push for the revolution while the latter were against anything that would resemble a political party. The victory of the Bolsheviks in the [[October Revolution]] and the resulting [[Russian Civil War]] did serious damage to anarchist movements internationally. Many workers and activists saw the Bolshevik success as setting an example and [[Communist party|communist parties]] grew at the expense of anarchism and other socialist movements. In France and the United States, members of the major syndicalist movements of the [[General Confederation of Labour (France)|General Confederation of Labour]] and [[Industrial Workers of the World]] (IWW) left the organisations and joined the [[Communist International]].\\n\\nIn the [[Spanish Civil War]], anarchists and syndicalists ([[Confederación Nacional del Trabajo|CNT]] and [[Federación Anarquista Ibérica|FAI]]) once again allied themselves with various currents of leftists. Spain had a long [[Anarchism in Spain|anarchist tradition]] and anarchists played an important role in the Civil War. In response to the army rebellion, an anarchist-inspired movement of peasants and workers, supported by armed militias, took control of [[Barcelona]] and of large areas of rural Spain where they [[Collective farming|collectivised]] the land. The Soviet Union provided some limited assistance at the beginning of the Civil War, but as [[Joseph Stalin]] tried to seize control of the [[Republican faction (Spanish Civil War)|Republicans]] the result was a bitter fight among communists and anarchists (i.e. at a series of events named [[May Days]]).\\n\\n=== Post-World War II anarchism ===\\n[[File:Rojava Sewing Cooperative.jpg|thumb|[[Rojava]] is supporting efforts for workers to form cooperatives, such as this sewing cooperative]]\\nIn the first years after World War II, the anarchist movement was severely damaged. However, the 1960s witnessed a revival of anarchism. The main causes of such a revival may have been the perceived failure of [[Marxism–Leninism]] and the tension build by the [[Cold War]]. During this era, anarchism was mostly part of other movements critical to both the state and capitalism such as the [[Anti-nuclear movement|anti-nuclear]], [[Environmental movement|environmental]] and [[Peace movement|pacifist movements]], the [[New Left]], or the [[counterculture of the 1960s]]. Anarchism was also associated with the [[punk rock]] movement as exemplified by bands such as [[Crass]] and the [[Sex Pistols]]. Although [[feminist]] tendencies have always been a part of the anarchist movement in the form of [[anarcha-feminism]], they returned with vigour during the [[second wave of feminism]] in the 1960s.\\n\\nAround the turn of the 21st century, anarchism grew in popularity and influence as part of the [[anti-war]], [[anti-capitalist]] and [[anti-globalisation movement]]s. Anarchists became known for their involvement in protests against the meetings of the [[World Trade Organization]] (WTO), [[Group of Eight]] (G8) and the [[World Economic Forum]] (WEF). Some anarchist factions at these protests engaged in [[riot]]ing, [[property destruction]] and violent confrontations with the [[police]]. These actions were precipitated by \\'\\'ad hoc\\'\\', leaderless, anonymous cadres known as [[black bloc]]s—other organisational tactics pioneered in this time include [[security culture]], [[affinity group]]s and the use of decentralised technologies such as the internet. A significant event of this period was the confrontations at the [[1999 Seattle WTO protests|WTO conference in Seattle in 1999]]. Anarchist ideas have been influential in the development of the [[Zapatista Army of National Liberation|Zapatistas]] in Chiapas, Mexico, and the Democratic Federation of Northern Syria, more commonly known as [[Rojava]], a \\'\\'de facto\\'\\' [[Permanent autonomous zone|autonomous region]] in northern [[Syria]].\\n\\n== Anarchist schools of thought ==\\n\\n[[Anarchist schools of thought]] had been generally grouped in two main historical traditions ([[individualist anarchism]] and [[social anarchism]]) which have some different origins, values and evolution. The individualist wing of anarchism emphasises [[negative liberty]] (opposition to state or [[social control]] over the individual) while those in the social wing emphasise [[positive liberty]] to achieve one\\'s potential and argue that humans have needs that society ought to fulfil, \"recognising equality of entitlement\". In a chronological and theoretical sense, there are classical—those created throughout the 19th century—and post-classical anarchist schools—those created since the mid-20th century and after.\\n\\nBeyond the specific factions of anarchist thought is [[philosophical anarchism]] which the theoretical stance that the state lacks moral legitimacy without accepting the imperative of revolution to eliminate it. A component especially of individualist anarchism, philosophical anarchism may accept the existence of a [[Minarchism|minimal state]] as unfortunate and usually temporary, necessary evil, but argue that citizens do not have a [[moral obligation]] to obey the state when its laws conflict with individual autonomy. One reaction against sectarianism within the anarchist milieu was [[anarchism without adjectives]], a call for [[toleration]] first adopted by [[Fernando Tarrida del Mármol]] in 1889 in response to the bitter debates of anarchist theory at the time. In abandoning the hyphenated anarchisms (i.e. collectivist-, communist-, mutualist- and individualist-anarchism), it sought to emphasise the [[anti-authoritarian]] beliefs common to all anarchist schools of thought. The various anarchist schools of thought or currents are not distinct entities, but intermingle with each other.\\n\\n=== Classical ===\\n[[File:Portrait of Pierre Joseph Proudhon 1865.jpg|thumb|upright|[[Pierre-Joseph Proudhon]] was the primary proponent of [[Mutualism (economic theory)|anarcho-mutualism]] and influenced many future [[Individualist anarchism|individualist anarchist]] and [[Social anarchism|social anarchist]] thinkers]]\\n[[Collectivist anarchism|Collectivist]], [[Anarcho-communism|communist]] and [[anarcho-syndicalism]] are considered a form of [[social anarchism]]. [[Mutualism (economic theory)|Mutualism]] and [[Individualist anarchism|individualism]] were the other notable anarchist currents through the 19th and early 20th century. Social anarchism rejects [[Private property#Criticism|private property]], seeing it as a source of social inequality (while retaining respect for [[personal property]]) and emphasises cooperation and [[Mutual aid (organization)|mutual aid]].\\n\\n==== Mutualism ====\\n\\n[[Mutualism (economic theory)|Mutualism]] began in 18th-century English and French labour movements before taking an anarchist form associated with [[Pierre-Joseph Proudhon]] in France and others in the United States. Proudhon proposed spontaneous order, whereby organisation emerges without central authority, a \"positive anarchy\" where order arises when everybody does \"what he wishes and only what he wishes\" and where \"business transactions alone produce the social order\".\\n\\nProudhon distinguished between ideal political possibilities and practical governance. For this reason, much in contrast to some of his theoretical statements concerning ultimate spontaneous self-governance, Proudhon was heavily involved in French parliamentary politics and allied himself with the socialist factions of the workers movement. During his life of public service, he began advocating state-protected [[charter]]s for worker-owned [[cooperative]]s and promoting certain [[nationalisation]] schemes.\\n\\nMutualist anarchism is concerned with [[Reciprocity (cultural anthropology)|reciprocity]], [[Free association (Marxism and anarchism)|free association]], voluntary [[contract]], [[federation]] and [[Monetary reform|credit and currency reform]]. According to the American mutualist [[William Batchelder Greene]], each worker in the mutualist system would receive \"just and exact pay for his work; services equivalent in cost being exchangeable for services equivalent in cost, without profit or discount\". Mutualism has been retrospectively characterised as ideologically situated between individualist and collectivist forms of anarchism. Proudhon first characterised his goal as a \"third form of society, the synthesis of communism and property [which] we call LIBERTY\".\\n\\n==== Collectivist anarchism ====\\n\\n[[Collectivist anarchism]], also referred to as [[revolutionary socialism]] or a form of such, is a revolutionary form of anarchism, commonly associated with [[Mikhail Bakunin]] and [[Johann Most]].\\n\\nAt the epicentre of collectivist anarchism lies the belief in the potential of humankind for goodness and solidarity which will flourish when oppressive governments are abolished. Collectivist anarchists oppose all private ownership of the means of production, instead advocating that ownership be collectivised. This was to be achieved through violent revolution, first starting with a small cohesive group through acts of violence, or propaganda by the deed, to inspire the workers as a whole to revolt and forcibly collectivise the means of production. However, collectivisation was not to be extended to the distribution of income as workers would be paid according to time worked, rather than receiving goods being distributed according to need as in anarcho-communism. This position was criticised by anarcho-communists as effectively \"uphold[ing] the wages system\". Collectivist anarchism arose contemporaneously with [[Marxism]], but it opposed the Marxist [[dictatorship of the proletariat]] despite the stated Marxist goal of a collectivist [[stateless society]].\\n\\nAnarchist, communist and collectivist ideas are not [[mutually exclusive]]—although the collectivist anarchists advocated [[Labour voucher|compensation for labour]], some held out the possibility of a post-revolutionary transition to a communist system of distribution according to need.\\n\\n==== Anarcho-communism ====\\n\\n\\n[[File:Kropotkin2.jpg|thumb|left|upright|[[Peter Kropotkin]] was influential in the development of [[anarcho-communism]]]]\\n[[Anarcho-communism]], also known as [[anarchist-communism]], [[communist anarchism]] and [[libertarian communism]], is a theory of anarchism that advocates abolition of the [[State (polity)|state]], [[Market (economics)|markets]], [[money]], [[private property]] (while retaining respect for [[personal property]]) and [[capitalism]] in favour of [[common ownership]] of the [[means of production]], [[direct democracy]] and a [[Horizontalidad|horizontal network]] of [[voluntary association]]s and [[workers\\' council]]s with production and consumption based on the guiding principle: \"[[From each according to his ability, to each according to his needs|From each according to his ability, to each according to his need]]\".\\n\\nAnarcho-communism developed out of radical socialist currents after the [[French Revolution]], but it was first formulated as such in the Italian section of the [[First International]]. The theoretical work of [[Peter Kropotkin]] took importance later as it expanded and developed pro-organisationalist and insurrectionary anti-organisationalist sections.\\n\\nTo date, the best known examples of an anarcho-communist society (i.e. established around the ideas as they exist today and achieving worldwide attention and knowledge in the historical canon), are the anarchist territories during the [[Spanish Revolution of 1936|Spanish Revolution]] and the [[Free Territory]] during the [[Russian Revolution]]. Through the efforts and influence of the [[Anarchism in Spain|Spanish anarchists]] during the Spanish Revolution within the [[Spanish Civil War]] starting in 1936, anarcho-communism existed in most of Aragon, parts of the Levante and Andalusia as well as in the stronghold of [[Revolutionary Catalonia|Catalonia]]. Along with the [[Republican faction (Spanish Civil War)|Republicans]], it was crushed by the combined forces of the [[Francisco Franco]]\\'s [[Nationalist faction (Spanish Civil War)|Nationalists]], [[Adolf Hitler]] and [[Benito Mussolini]] as well as repression by the [[Communist Party of Spain]] (backed by the [[Soviet Union]]) and economic and armaments blockades from the capitalist countries and the [[Second Spanish Republic|Spanish Republic]] itself.\\n\\n==== Anarcho-syndicalism ====\\n\\n[[File:Manifestación CNT Bilbao.jpg|thumb|left|[[International Workers\\' Day|May Day]] 2010 demonstration of Spanish [[Anarcho-syndicalism|anarcho-syndicalist]] trade union [[Confederación Nacional del Trabajo|CNT]] in Bilbao, Basque Country]]\\n[[Anarcho-syndicalism]] is a branch of anarchism that focuses on the [[labour movement]].\\n\\nAnarcho-syndicalists view labour unions as a potential force for revolutionary social change, replacing capitalism and the state with a new society democratically self-managed by workers. The basic principles of anarcho-syndicalism are workers\\' [[solidarity]], [[direct action]] and [[workers\\' self-management]]. Anarcho-syndicalists believe that only direct action—that is, action concentrated on directly attaining a goal as opposed to indirect action such as electing a representative to a government position—will allow workers to liberate themselves.\\n\\nMoreover, anarcho-syndicalists believe that workers\\' organisations (the organisations that struggle against the wage system which in anarcho-syndicalist theory will eventually form the basis of a new society) should be self-managing. They should not have bosses or business agents—rather, the workers should be able to make all the decisions that affect them themselves. [[Rudolf Rocker]] was one of the most popular voices in the anarcho-syndicalist movement. He outlined a view of the origins of the movement, what it sought and why it was important to the future of labour in his 1938 pamphlet \\'\\'Anarcho-Syndicalism\\'\\'. The [[International Workers Association]] is an international anarcho-syndicalist federation of various labour unions from different countries. The Spanish [[Confederación Nacional del Trabajo|CNT]] played and still plays a major role in the Spanish labour movement. It was also an important force in the Spanish Civil War.\\n\\n==== Individualist anarchism ====\\n\\n[[Individualist anarchism]] refers to several traditions of thought within the anarchist movement that emphasise the [[individual]] and their [[Will (philosophy)|will]] over any kinds of external determinants such as groups, society, traditions and ideological systems. Individualist anarchism is not a single philosophy, but it instead refers to a group of individualistic philosophies that sometimes are in conflict.\\n\\nIn 1793, [[William Godwin]], who has often been cited as the first anarchist, wrote \\'\\'[[Political Justice]]\\'\\', which some consider the first expression of anarchism. Godwin was a philosophical anarchist and from a [[rationalist]] and [[utilitarian]] basis opposed revolutionary action and saw a [[Limited government|minimal state]] as a present \"necessary evil\" that would become increasingly irrelevant and powerless by the gradual spread of knowledge. Godwin advocated individualism, proposing that all cooperation in labour be eliminated on the premise that this would be most conducive with the general good.\\n\\n[[File:Max stirner.jpg|thumb|left|[[Max Stirner]] (here in a sketch by [[Friedrich Engels]]) is usually considered a prominent early individualist anarchist]]\\nAn influential form of individualist anarchism called egoism, or [[egoist anarchism]], was expounded by one of the earliest and best-known proponents of individualist anarchism, the German [[Max Stirner]]. Stirner\\'s \\'\\'[[The Ego and Its Own]]\\'\\', published in 1844, is a founding text of the philosophy. According to Stirner, the only limitation on the rights of individuals is their power to obtain what they desire without regard for God, state, or morality. To Stirner, rights were \"[[Reification (fallacy)|spooks]]\" in the mind and he held that society does not exist, but \"the individuals are its reality\". Stirner advocated self-assertion and foresaw [[Union of egoists|unions of egoists]], non-systematic associations continually renewed by all parties\\' support through an act of will, which Stirner proposed as a form of organisation in place of the state. Egoist anarchists argue that egoism will foster genuine and spontaneous union between individuals. \"Egoism\" has inspired many interpretations of Stirner\\'s philosophy. It was re-discovered and promoted by German philosophical anarchist and [[homosexual]] activist [[John Henry Mackay]].\\n\\n[[Josiah Warren]] was a pioneer American anarcho-individualist, who drew inspiration from Proudhon. [[Henry David Thoreau]] (1817–1862) was an important early influence in individualist anarchist thought in the United States and Europe. Thoreau was an American author, poet, naturalist, tax resister, [[Development criticism|development critic]], surveyor, historian, philosopher and leading [[transcendentalist]]. He is best known for his books \\'\\'[[Walden]]\\'\\', a reflection upon [[simple living]] in natural surroundings, as well as his essay, \\'\\'[[Civil Disobedience (Thoreau)|Civil Disobedience]]\\'\\', an argument for individual resistance to civil government in moral opposition to an unjust state. Benjamin Tucker later fused Stirner\\'s egoism with the economics of Warren and Proudhon in his eclectic influential publication \\'\\'[[Liberty (1881–1908)|Liberty]]\\'\\'.\\n\\nFrom these early influences, individualist anarchism in different countries attracted a small yet diverse following of Bohemian artists and intellectuals, [[free love]] and [[birth control]] advocates (see [[anarchism and issues related to love and sex]]), individualist [[naturist]]s and [[nudist]]s (see [[anarcho-naturism]]), [[freethought|free-thought]] and [[anti-clerical]] activists as well as young anarchist outlaws in what became known as illegalism and [[individual reclamation]] (see [[European individualist anarchism]] and [[individualist anarchism in France]]). These authors and activists included [[Oscar Wilde]], [[Emile Armand]], [[Han Ryner]], [[Henri Zisly]], [[Renzo Novatore]], [[Miguel Gimenez Igualada]], [[Adolf Brand]] and [[Lev Chernyi]], among others.\\n\\n=== Post-classical and contemporary ===\\n\\n[[File:Jarach and Zerzan.JPG|thumb|[[Lawrence Jarach]] (left) and [[John Zerzan]] (right), two prominent [[Contemporary anarchism|contemporary anarchist]] authors, with Zerzan being a prominent voice within [[anarcho-primitivism]] and Jarach a noted advocate of [[post-left anarchy]]]]\\nAnarchist principles undergird contemporary radical social movements of the left. Interest in the anarchist movement developed alongside momentum in the [[anti-globalization movement|anti-globalisation movement]], whose leading activist networks were anarchist in orientation. As the movement shaped 21st century radicalism, wider embrace of anarchist principles signalled a revival of interest. Contemporary news coverage which emphasises [[black bloc]] demonstrations has reinforced anarchism\\'s historical association with chaos and violence, though its publicity has also led more scholars to engage with the anarchist movement. Anarchism continues to generate many philosophies and movements, at times eclectic, drawing upon various sources and [[Syncretic politics|syncretic]], combining disparate concepts to create new philosophical approaches.\\n\\nAnti-capitalism stays prominent within contemporary anarchism, continuing the tradition of classical anarchism.\\n\\n[[Insurrectionary anarchism]] is a revolutionary theory, practice and tendency within the anarchist movement which emphasises [[insurrection]] within anarchist practice. Critical of formal organisations such as [[labour unions]] and federations that are based on a political programme and periodic congresses, insurrectionary anarchists instead advocate informal organisation and small [[affinity group]] based organisation as well as putting value in attack, permanent [[class conflict]] and a refusal to negotiate or compromise with class enemies.\\n\\n[[Green anarchism]], or [[eco-anarchism]], is a school of thought within anarchism that emphasises environmental issues, with an important precedent in anarcho-naturism and whose main contemporary currents are anarcho-primitivism and [[Social ecology (theory)|social ecology]]. Writing from a green anarchist perspective, [[John Zerzan]] attributes the ills of today\\'s social degradation to technology and the birth of agricultural civilisation. While [[Layla AbdelRahim]] argues that \"the shift in human consciousness was also a shift in human subsistence strategies, whereby some human animals reinvented their narrative to centre murder and predation and thereby institutionalise violence\". According to AbdelRahim, civilisation was the result of the human development of technologies and grammar for predatory economics. Language and literacy, she claims, are some of these technologies.\\n\\n[[Anarcho-pacifism]] is a tendency that rejects violence in the struggle for social change (see [[non-violence]]). It developed mostly in the Netherlands, Britain and the United States before and during the Second World War. Christian anarchism is a [[Christian movement|movement]] in [[political theology]] that combines anarchism and Christianity. Its main proponents included [[Leo Tolstoy]], Dorothy Day, Ammon Hennacy and [[Jacques Ellul]].\\n\\n[[Religious anarchism]] refers to a set of related anarchist ideologies that are inspired by the teachings of [[religion]]s. While many anarchists have traditionally been sceptical of and opposed to [[organized religion|organised religion]], many different religions have served as inspiration for religious forms of anarchism, most notably [[Christianity]] as [[Christian anarchism|Christian anarchists]] believe that biblical teachings give credence to anarchist philosophy. Other examples include [[Buddhist anarchism]], [[Jewish anarchism]] and most recently [[Neopaganism]].\\n\\n[[Synthesis anarchism]] is a form of anarchism that tries to join anarchists of different tendencies under the principles of anarchism without adjectives. In the 1920s, this form found as its main proponents the [[anarcho-communists]] [[Voline]] and [[Sébastien Faure]]. It is the main principle behind the anarchist federations grouped around the contemporary global [[International of Anarchist Federations]].\\n\\n[[Platformism]] is a tendency within the wider anarchist movement based on the organisational theories in the tradition of Dielo Truda\\'s \\'\\'Organisational Platform of the General Union of Anarchists (Draft)\\'\\'. The document was based on the experiences of [[Anarchism in Russia|Russian anarchists]] in the 1917 [[October Revolution]] which led eventually to the victory of the [[Bolsheviks]] over the anarchists and other groups. The \\'\\'Platform\\'\\' attempted to address and explain the anarchist movement\\'s failures during the [[Russian Revolution]].\\n\\n[[Post-left anarchy]] is a recent current in anarchist thought that promotes a critique of anarchism\\'s relationship to traditional [[left-wing politics]]. Some post-leftists seek to escape the confines of [[ideology]] in general also presenting a critique of organisations and [[morality]]. Influenced by the work of Max Stirner and by the Marxist [[Situationist International]], post-left anarchy is marked by a focus on social insurrection and a rejection of leftist social organisation.\\n\\n[[Post-anarchism]] is a theoretical move towards a synthesis of classical anarchist theory and [[poststructuralist]] thought, drawing from diverse ideas including post-left anarchy, [[postmodernism]], [[autonomism]], [[postcolonialism]] and the [[Situationist International]].\\n\\n[[Queer anarchism]] is a form of [[socialism]] which suggests anarchism as a solution to the issues faced by the [[LGBT community]], mainly [[heteronormativity]], [[homophobia]], [[transphobia]] and [[biphobia]]. It arose during the late 20th century based on the work of [[Michel Foucault]]\\'s \\'\\'[[The History of Sexuality]]\\'\\' (1976).\\n\\n[[Left-wing market anarchism]] strongly affirm the [[classical liberal]] ideas of [[self-ownership]] and [[free market]]s while maintaining that taken to their logical conclusions these ideas support strongly [[anti-capitalist]], [[Anti-corporatism|anti-corporatist]], [[Social hierarchies|anti-hierarchical]] and [[Labour movement|pro-labour]] positions in economics; [[anti-imperialism]] in foreign policy; and thoroughly radical views regarding such cultural issues as gender, sexuality and race.\\n\\n[[Anarcho-capitalism]] advocates the elimination of the state in favour of self-ownership in a free market. Anarcho-capitalism developed from radical American anti-state [[Libertarianism in the United States|libertarianism]] and [[Individualist anarchism in the United States|individualist anarchism]], drawing from [[Austrian School]] economics, study of [[law and economics]] and [[public choice theory]]. There is a strong current within anarchism which believes that anarcho-capitalism cannot be considered a part of the anarchist movement due to the fact that anarchism has historically been an anti-capitalist movement and for definitional reasons which see anarchism as [[Anarchism and capitalism|incompatible]] with capitalist forms.\\n\\n[[Anarcho-transhumanism]] is a recently new branch of anarchism that takes traditional and modern anarchism, typically drawing from [[anarcho-syndicalism]], [[left-libertarianism]], or [[Libertarian socialist|libertarian socialism]], and combines it with [[transhumanism]] and [[post-humanism]]. It can be described as a \"liberal democratic revolution, at its core the idea that people are happiest when they have rational control over their lives. Reason, science, and technology provide one kind of control, slowly freeing us from ignorance, toil, pain, disease and limited lifespans (ageing)\". Some anarcho-transhumanists might also follow [[technogaianism]].\\n<!-- If you are looking to extend this section, please add the content to the proper sub-article [[anarchist schools of thought]] instead. -->\\n\\n==== Anarcha-feminism ====\\n\\n[[Anarcha-feminism]], also called [[anarchist feminism]] and [[anarcho-feminism]], combines anarchism with [[feminism]]. It generally views [[patriarchy]] as a manifestation of involuntary coercive hierarchy that should be replaced by [[decentralised]] free association. Anarcha-feminists believe that the struggle against patriarchy is an essential part of [[class struggle]] and the anarchist struggle against the state. In essence, the philosophy sees anarchist struggle as a necessary component of feminist struggle and vice versa. Anarcha-feminists espoused to a detailed analysis of patriarchy and claim that oppression has its roots to social norms.\\n\\nAnarcha-feminism began with the late 19th-century writings of early feminist anarchists such as [[Emma Goldman]] and [[Voltairine de Cleyre]]. [[Mujeres Libres]] was an anarchist women\\'s organisation in Spain that aimed to empower working class women, based on the idea of a double struggle for [[Feminist movement|women\\'s liberation]] and social revolution and argued that the two objectives were equally important and should be pursued in parallel. In order to gain mutual support, they created networks of women anarchists. The second wave of anarcha-feminism arose in the 1960s.\\n\\n== Internal issues and debates ==\\n\\n<!-- In the interest of restricting article length, please limit this section to two or three short paragraphs and add any substantial information to the main Issues in anarchism article. Thank you. -->\\nAs anarchism is a [[philosophy]] that embodies many diverse attitudes, tendencies and schools of thought and as such disagreement over questions of values, ideology and tactics is common, its diversity has led to widely different use of identical terms among different anarchist traditions which has led to many [[definitional concerns in anarchist theory]]. For instance, the compatibility of [[Anarchism and capitalism|capitalism]], [[Anarchism and nationalism|nationalism]] and [[Anarchism and religion|religion]] with anarchism is widely disputed. Similarly, anarchism enjoys complex relationships with ideologies such as [[Anarchism and Marxism|Marxism]], [[Issues in anarchism#Communism|communism]], [[collectivism]] and [[trade unionism]]. Anarchists may be motivated by [[humanism]], [[God|divine authority]], [[enlightened self-interest]], [[Veganarchism|veganism]], or any number of alternative ethical doctrines. Phenomena such as [[civilisation]], [[technology]] (e.g. within [[anarcho-primitivism]]) and the [[Issues in anarchism#Participation in statist democracy|democratic process]] may be sharply criticised within some anarchist tendencies and simultaneously lauded in others. On a tactical level, [[propaganda of the deed]] was a tactic used by anarchists in the 19th century (e.g. the [[nihilist movement]]), with some contemporary anarchists espousing alternative direct action methods such as [[nonviolence]], [[counter-economics]] and [[Crypto-anarchism|anti-state cryptography]] to bring about an anarchist society. About the scope of an anarchist society, some anarchists advocate a global one while others do so by local ones.\\n\\n\\n== Topics of interest ==\\nIntersecting and overlapping between various schools of thought, certain topics of interest and internal disputes have proven perennial within anarchist theory.\\n\\n=== Anarchism and free love ===\\n\\n\\n[[File:Emilearmand01.jpg|thumb|upright|[[Individualist anarchism in France|French individualist anarchist]] [[Émile Armand]] propounded the virtues of [[free love]] in the [[Anarchism in France|Parisian anarchist milieu]] of the early 20th century]]\\nAn important current within anarchism is [[free love]]. In Europe, the main propagandist of free love within individualist anarchism was Emile Armand. He proposed the concept of \\'\\'la camaraderie amoureuse\\'\\' to speak of free love as the possibility of voluntary sexual encounter between consenting adults. He was also a consistent proponent of [[polyamory]]. In Germany, the [[Stirnerism|Stirnerists]] Adolf Brand and John Henry Mackay were pioneering campaigners for the acceptance of male [[bisexuality]] and [[homosexuality]]. More recently, the British anarcho-pacifist Alex Comfort gained notoriety during the [[sexual revolution]] for writing the bestseller sex manual \\'\\'[[The Joy of Sex]]\\'\\'. The issue of free love has a dedicated treatment in the work of French anarcho-[[hedonist]] philosopher [[Michel Onfray]] in such works as \\'\\'Théorie du corps amoureux. Pour une érotique solaire\\'\\' (2000) and \\'\\'L\\'invention du plaisir. Fragments cyréaniques\\'\\' (2002).\\n\\n=== Anarchism and education ===\\n\\n[[File:Francisco Ferrer Guardia.jpg|thumb|left|upright|[[Francesc Ferrer i Guàrdia]], [[Anarchism in Spain|Catalan anarchist]] pedagogue and [[Freethought|free thinker]]]]\\nEnglish anarchist William Godwin considered education an important aspect. He was against state education as he considered those schools as a way of the state to replicate privileges of the ruling class. Godwin thought that education was the way to change the world. In his \\'\\'[[Political Justice]]\\'\\', he criticises state sponsored schooling and advocates for child\\'s protection from coercion. Max Stirner wrote in 1842 a long essay on education called \\'\\'[[The False Principle of our Education]]\\'\\' in which Stirner was advocating for child\\'s autonomy.\\n\\nIn 1901, Catalan anarchist and free thinker [[Francisco Ferrer|Francesc Ferrer i Guàrdia]] established [[Ferrer movement|modern]] or [[Progressive education|progressive schools]] in Barcelona in defiance of an educational system controlled by the Catholic Church. Ferrer\\'s approach was secular, rejecting both the state and church involvement in the educational process and gave pupils plenty of autonomy (i.e. on setting the curriculum). Ferrer was aiming to educate the working class. The school closed after constant harassment by the state and Ferrer was later on arrested. Ferrer\\'s ideas generally formed the inspiration for a series of [[Modern School (United States)|modern schools]] in the United States,\\n\\nRussian Christian anarchist Leo Tolstoy established a school for peasant children on his estate. Tolstoy\\'s educational experiments were short-lived due to harassment by the Tsarist secret police. Tolstoy established a conceptual difference between education and culture. He thought that \"[e]ducation is the tendency of one man to make another just like himself. [...] Education is culture under restraint, culture is free. [Education is] when the teaching is forced upon the pupil, and when then instruction is exclusive, that is when only those subjects are taught which the educator regards as necessary\". For him, \"without compulsion, education was transformed into culture\".\\n\\nA more recent libertarian tradition on education is that of [[unschooling]] and the [[anarchist free school|free school]] in which child-led activity replaces pedagogic approaches. Experiments in Germany led to [[A. S. Neill]] founding what became [[Summerhill School]] in 1921. Summerhill is often cited as an example of anarchism in practice. However, although Summerhill and other free schools are radically libertarian, they differ in principle from those of Ferrer by not advocating an overtly political class struggle-approach. In addition to organising schools according to libertarian principles, anarchists have also questioned the concept of schooling per se. The term [[deschooling]] was popularised by [[Ivan Illich]], who argued that the school as an institution is dysfunctional for self-determined learning and serves the creation of a consumer society instead.\\n\\n=== Anarchism and the state ===\\n<!-- Important! Strive to explain how anarchists perceive authority and oppression and why they reject them. Jun (2019), p. 41. -->\\nObjection to the state and its institutions is \\'\\'[[sine qua non]]\\'\\' of anarchism. Anarchists consider the government as a tool of domination and it is illegitimate regardless of political tendencies. Instead of people being able to control the aspects of their life, major decisions are taken by a small elite. Authority ultimately rests solely on power regardless if it is [[Open government|open]] or transparent as it still has the ability to coerce people. Another anarchist argument against states is that some people constituting a government, even the most altruistic among officials, will unavoidably seek to gain more power, leading to corruption. Anarchists consider the argument that the state is the collective will of people as a fairy tale since the ruling class is distinct from the rest of the society.\\n\\n[[File:Gadewar.jpg|thumb|Which forms of violence, if any, are [[Anarchism and violence|consistent with anarchist values]] is a controversial subject among anarchists]]\\n\\n=== Anarchism and violence ===\\n\\nAnarchist perspectives towards violence have always been perplexed and controversial. On one hand, anarcho-pacifists point out the unity of means and ends. On the other hand, other groups of anarchist are for direct action that can include sabotage or even terrorism. [[Emma Goldman]] and [[Errico Malatesta]], who were proponents of limited use of violence, were arguing that violence is merely a reaction to state violence as a [[necessary evil]]. Peace activist and anarchist [[April Carter]] argues that violence is incompatible with anarchism because it is mostly associated with the state and authority as violence is immanent to the state. As the state\\'s capability to exercise violence is colossal nowadays, a rebellion or civil war would probably end in another authoritarian institute.\\n\\n== Anarchist strategies and tactics ==\\n\\nAnarchist tactics vary considerably. A broad categorisation would be the preference of revolutionary tactics to destroy oppressive States and institutions or aiming to change society through evolutionary means. Revolutionary methods can take violent form as they did in past insurgencies (i.e., in Spain, Mexico, Russia) or during violent protests by militant protesters such as the [[black bloc]], who are generally much less violent than revolutionary movements a century ago. Anarchists also commonly employ [[direct action]], which can take the form of disrupting and protesting against unjust hierarchies, or the form of self-managing their lives through the creation of counter-institutions such as communes and non-hierarchical collectives. Often decision-making is handled in an anti-authoritarian way, with everyone having equal say in each decision, an approach known as [[Horizontalidad|horizontalism]]. Another aspect of anarchist tactics is their aim to strengthen social bonds through common actions.\\n\\nReclaiming public space by anarchists is another method of creating social spaces and creating squats in order to organise themselves. During important events such as protests, when spaces are being occupied, they are often called \\n\"[[Temporary Autonomous Zone]]s\" (TAZ).\\n\\n== Criticisms ==\\nMoral and pragmatic criticism of anarchism includes allegations of utopianism, tacit authoritarianism and vandalism towards feats of civilisation.\\n\\n=== Allegation of utopianism ===\\nAnarchism is evaluated as unfeasible or [[utopian]] by its critics, often in general and formal debate. European history professor Carl Landauer argued that social anarchism is unrealistic and that government is a \"lesser evil\" than a society without \"repressive force\". He also argued that \"ill intentions will cease if repressive force disappears\" is an \"absurdity\". However, \\'\\'[[An Anarchist FAQ]]\\'\\' states the following: \"Anarchy is not a utopia, [and] anarchists make no such claims about human perfection. [...] Remaining disputes would be solved by reasonable methods, for example, the use of juries, mutual third parties, or community and workplace assemblies [as well as] some sort of \"court\" system would still be necessary to deal with the remaining crimes and to adjudicate disputes between citizens\".\\n\\n=== Tacit authoritarianism ===\\nThe anarchist tendency known as [[platformism]] has been criticised by [[Situationist International|Situationists]], [[Insurrectionary anarchism|insurrectionaries]], [[Synthesis anarchism|synthesis anarchists]] and others of preserving tacitly statist, authoritarian or bureaucratic tendencies.\\n\\n=== Anarchism and civilization ===\\nIn his essay \\'\\'On Authority\\'\\', [[Friedrich Engels]] claimed that radical [[decentralization]] promoted by anarchists would destroy modern industrial civilization, citing an example of [[railway]]s: \\n\\nIn the end, it is argued that authority in any form is a natural occurrence which should not be abolished.\\n\\n== List of anarchist societies ==\\n\\n* [[Fejuve|Federation of Neighborhood Councils-El Alto]] (Fejuve; 1979–present)\\n* [[Popular Indigenous Council of Oaxaca \"Ricardo Flores Magón\"]] (CIPO-RFM; 1980s–present)\\n* [[Landless Workers\\' Movement]] (MST; 1982–present)\\n* [[Rebel Zapatista Autonomous Municipalities]] (MANEZ; 1994–present)\\n* [[Barbacha]] (2001–present)\\n* [[Villa de Zaachila]] (2006–present)\\n* [[Cherán|Cheran]] (2011–present)\\n* [[Democratic Federation of Northern Syria]] (Rojava; 2013–present)\\n\\n== See also ==\\n* [[:Category:Anarchism by country|Anarchism by country]]\\n* [[Governance without government]]\\n* [[Libertarian socialism]]\\n* [[List of political ideologies#Anarchism|List of anarchist political ideologies]]\\n* \\n\\n; Foundational texts of anarchism<!-- Source: McLaughlin, 2007. -->\\n* \\'\\'[[Enquiry Concerning Political Justice]]\\'\\' (1793) \\n* \\'\\'[[What is Property?]] (1840) \\n* \\'\\'[[The Ego and Its Own]]\\'\\' (1844)\\n\\n== References ==\\n\\n\\n\\n\\n== Sources ==\\n=== Primary ===\\n\\n* \\n* \\n* \\n* \\n*  \\n* \\n*   \\n* \\n* \\n* \\n* \\n* \\n\\n\\n=== Secondary ===\\n\\n* \\n* \\n* \\n* \\n* \\n* \\n* \\n* \\n* \\n* \\n*  \\n*  \\n* \\n* \\n* \\n* \\n* \\n* \\n* \\n* \\n* \\n* \\n* \\n* \\n* \\n* \\n* \\n* \\n*\\n* \\n* \\n* \\n* \\n* \\n* \\n* \\n* \\n* \\n* \\n* \\n* \\n* \\n* \\n* \\n* \\n* \\n* \\n* \\n* \\n* \\n* \\n* \\n* \\n* \\n* \\n* \\n* \\n* \\n* \\n* \\n* \\n* \\n* \\n* \\n* \\n* \\n* \\n* \\n* \\n* \\n* \\n* \\n* \\n* \\n* \\n* \\n* \\n* \\n* *\\n* \\n* \\n* \\n* \\n* \\n* \\n* \\n* \\n* \\n* \\n* \\n* \\n* \\n* \\n* \\n* \\n* \\n* \\n* \\n* \\n* \\n* \\n* \\n* \\n* \\n* \\n* \\n\\n\\n=== Tertiary ===\\n\\n* \\n* \\n* \\n* \\n* \\n* \\n* \\n* \\n* \\n* \\n* \\n* \\n\\n== Further reading ==\\n* \\n* \\n*  An utopian science fiction novel\\n* \\n* \\n* [[James C. Scott|Scott, James C.]], (2012) \\'\\'[[Two Cheers for Anarchism: Six Easy Pieces on Autonomy, Dignity, and Meaningful Work and Play]]\\'\\', Princeton, NJ: Princeton University Press .\\n* \\n\\n== External links ==\\n\\n* [http://dwardmac.pitzer.edu/ Anarchy Archives]. [[Anarchy Archives]] is an online research center on the history and theory of anarchism\\n<!-- Attention! The external link portion of this article regularly grows far beyond manageable size. PLEASE only list an outside link if it applies to anarchism in general, is somewhat noteworthy, and has consensus on the talkpage. Links to sites which cover anarchist submovements will be routinely moved to subarticles to keep this article free of clutter. -->\\n\\n<!-- {{no more links}}. Please be cautious adding more external links. Wikipedia is not a collection of links and should not be used for advertising. Excessive or inappropriate links will be removed. See [[Wikipedia:External links]] and [[Wikipedia:Spam]] for details. If there are already suitable links, propose additions or replacements on the article\\'s talk page, or submit your link to the relevant category at DMOZ (dmoz.org) — now curlie.org — and link there using {{curlie}}. -->\\n\\n\\n\\n\\n\\n\\n\\n\\n\\n\\n[[Category:Anarchism| ]]\\n[[Category:Anti-capitalism]]\\n[[Category:Anti-fascism]]\\n[[Category:Far-left politics]]\\n[[Category:Libertarian socialism]]\\n[[Category:Political culture]]\\n[[Category:Political ideologies]]\\n[[Category:Social theories]]'"
      ]
     },
     "execution_count": 82,
     "metadata": {},
     "output_type": "execute_result"
    }
   ],
   "source": [
    "df.text[1]"
   ]
  },
  {
   "cell_type": "code",
   "execution_count": 62,
   "metadata": {},
   "outputs": [
    {
     "name": "stdout",
     "output_type": "stream",
     "text": [
      "<class 'pandas.core.frame.DataFrame'>\n",
      "RangeIndex: 19822 entries, 0 to 19821\n",
      "Data columns (total 2 columns):\n",
      "text     19822 non-null object\n",
      "title    19822 non-null object\n",
      "dtypes: object(2)\n",
      "memory usage: 309.8+ KB\n"
     ]
    }
   ],
   "source": [
    "df.info()"
   ]
  },
  {
   "cell_type": "code",
   "execution_count": null,
   "metadata": {},
   "outputs": [],
   "source": []
  }
 ],
 "metadata": {
  "kernelspec": {
   "display_name": "learn-env",
   "language": "python",
   "name": "learn-env"
  },
  "language_info": {
   "codemirror_mode": {
    "name": "ipython",
    "version": 3
   },
   "file_extension": ".py",
   "mimetype": "text/x-python",
   "name": "python",
   "nbconvert_exporter": "python",
   "pygments_lexer": "ipython3",
   "version": "3.6.6"
  }
 },
 "nbformat": 4,
 "nbformat_minor": 2
}
